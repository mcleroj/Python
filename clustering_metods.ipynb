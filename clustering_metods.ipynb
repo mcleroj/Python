{
 "cells": [
  {
   "cell_type": "markdown",
   "metadata": {},
   "source": [
    "https://www.kaggle.com/code/marcinrutecki/clustering-methods-comprehensive-study/notebook\n",
    "\n",
    "# Import Libraries"
   ]
  },
  {
   "cell_type": "code",
   "execution_count": 1,
   "metadata": {},
   "outputs": [],
   "source": [
    "import numpy as np\n",
    "import pandas as pd\n",
    "import matplotlib.pyplot as plt\n",
    "# from matplotlib import pyplot as plt\n",
    "%matplotlib inline\n",
    "\n",
    "from qvd import qvd_reader as qvd"
   ]
  },
  {
   "cell_type": "markdown",
   "metadata": {},
   "source": [
    "# Import data"
   ]
  },
  {
   "cell_type": "code",
   "execution_count": 22,
   "metadata": {},
   "outputs": [
    {
     "name": "stdout",
     "output_type": "stream",
     "text": [
      "<class 'pandas.core.frame.DataFrame'>\n",
      "RangeIndex: 41582 entries, 0 to 41581\n",
      "Data columns (total 3 columns):\n",
      " #   Column        Non-Null Count  Dtype \n",
      "---  ------        --------------  ----- \n",
      " 0   FechaFactura  41582 non-null  object\n",
      " 1   Cod_Cli       41582 non-null  object\n",
      " 2   TotalFactura  41579 non-null  object\n",
      "dtypes: object(3)\n",
      "memory usage: 974.7+ KB\n"
     ]
    }
   ],
   "source": [
    "file_path = \"Y:/Mercanza/ProyectosDVA/CM Proyectos/0. QVD\"\n",
    "raw_df = qvd.read(file_path + \"/vfacturas.qvd\")\n",
    "# raw_df.head()\n",
    "\n",
    "df2 = raw_df[[\"FechaFactura\", \"Cod_Cli\", \"TotalFactura\"]].copy()\n",
    "df2.head()\n",
    "df2.info()\n"
   ]
  },
  {
   "cell_type": "markdown",
   "metadata": {},
   "source": [
    "# Convert data types"
   ]
  },
  {
   "cell_type": "code",
   "execution_count": 23,
   "metadata": {},
   "outputs": [
    {
     "name": "stdout",
     "output_type": "stream",
     "text": [
      "<class 'pandas.core.frame.DataFrame'>\n",
      "RangeIndex: 41582 entries, 0 to 41581\n",
      "Data columns (total 3 columns):\n",
      " #   Column        Non-Null Count  Dtype         \n",
      "---  ------        --------------  -----         \n",
      " 0   FechaFactura  41582 non-null  datetime64[ns]\n",
      " 1   Cod_Cli       41582 non-null  string        \n",
      " 2   TotalFactura  41579 non-null  float32       \n",
      "dtypes: datetime64[ns](1), float32(1), string(1)\n",
      "memory usage: 812.3 KB\n"
     ]
    },
    {
     "data": {
      "text/html": [
       "<div>\n",
       "<style scoped>\n",
       "    .dataframe tbody tr th:only-of-type {\n",
       "        vertical-align: middle;\n",
       "    }\n",
       "\n",
       "    .dataframe tbody tr th {\n",
       "        vertical-align: top;\n",
       "    }\n",
       "\n",
       "    .dataframe thead th {\n",
       "        text-align: right;\n",
       "    }\n",
       "</style>\n",
       "<table border=\"1\" class=\"dataframe\">\n",
       "  <thead>\n",
       "    <tr style=\"text-align: right;\">\n",
       "      <th></th>\n",
       "      <th>FechaFactura</th>\n",
       "      <th>Cod_Cli</th>\n",
       "      <th>TotalFactura</th>\n",
       "    </tr>\n",
       "  </thead>\n",
       "  <tbody>\n",
       "    <tr>\n",
       "      <th>0</th>\n",
       "      <td>2000-01-03</td>\n",
       "      <td>21889</td>\n",
       "      <td>20880.0</td>\n",
       "    </tr>\n",
       "    <tr>\n",
       "      <th>1</th>\n",
       "      <td>2000-01-03</td>\n",
       "      <td>22013</td>\n",
       "      <td>222706.0</td>\n",
       "    </tr>\n",
       "    <tr>\n",
       "      <th>2</th>\n",
       "      <td>2000-01-03</td>\n",
       "      <td>22052</td>\n",
       "      <td>25881.0</td>\n",
       "    </tr>\n",
       "    <tr>\n",
       "      <th>3</th>\n",
       "      <td>2000-01-03</td>\n",
       "      <td>22171</td>\n",
       "      <td>103523.0</td>\n",
       "    </tr>\n",
       "    <tr>\n",
       "      <th>4</th>\n",
       "      <td>2000-01-04</td>\n",
       "      <td>22020</td>\n",
       "      <td>156600.0</td>\n",
       "    </tr>\n",
       "  </tbody>\n",
       "</table>\n",
       "</div>"
      ],
      "text/plain": [
       "  FechaFactura Cod_Cli  TotalFactura\n",
       "0   2000-01-03   21889       20880.0\n",
       "1   2000-01-03   22013      222706.0\n",
       "2   2000-01-03   22052       25881.0\n",
       "3   2000-01-03   22171      103523.0\n",
       "4   2000-01-04   22020      156600.0"
      ]
     },
     "execution_count": 23,
     "metadata": {},
     "output_type": "execute_result"
    }
   ],
   "source": [
    "type_table = {\"FechaFactura\": \"int32\", \"Cod_Cli\": \"string\", \"TotalFactura\": \"float32\"}\n",
    "\n",
    "df2 = df2.astype(type_table)\n",
    "df2[\"FechaFactura\"] = pd.to_datetime(\n",
    "    df2[\"FechaFactura\"], unit=\"D\", origin=\"1899-12-30\"  # Excel (Qlik) base\n",
    ")\n",
    "\n",
    "df2.info()\n",
    "df2.head()"
   ]
  },
  {
   "cell_type": "code",
   "execution_count": 28,
   "metadata": {},
   "outputs": [
    {
     "data": {
      "text/html": [
       "<div>\n",
       "<style scoped>\n",
       "    .dataframe tbody tr th:only-of-type {\n",
       "        vertical-align: middle;\n",
       "    }\n",
       "\n",
       "    .dataframe tbody tr th {\n",
       "        vertical-align: top;\n",
       "    }\n",
       "\n",
       "    .dataframe thead th {\n",
       "        text-align: right;\n",
       "    }\n",
       "</style>\n",
       "<table border=\"1\" class=\"dataframe\">\n",
       "  <thead>\n",
       "    <tr style=\"text-align: right;\">\n",
       "      <th></th>\n",
       "      <th>FechaFactura</th>\n",
       "      <th>Cod_Cli</th>\n",
       "      <th>TotalFactura</th>\n",
       "    </tr>\n",
       "  </thead>\n",
       "  <tbody>\n",
       "    <tr>\n",
       "      <th>count</th>\n",
       "      <td>41582</td>\n",
       "      <td>41582</td>\n",
       "      <td>4.157900e+04</td>\n",
       "    </tr>\n",
       "    <tr>\n",
       "      <th>unique</th>\n",
       "      <td>NaN</td>\n",
       "      <td>5111</td>\n",
       "      <td>NaN</td>\n",
       "    </tr>\n",
       "    <tr>\n",
       "      <th>top</th>\n",
       "      <td>NaN</td>\n",
       "      <td>0110</td>\n",
       "      <td>NaN</td>\n",
       "    </tr>\n",
       "    <tr>\n",
       "      <th>freq</th>\n",
       "      <td>NaN</td>\n",
       "      <td>3678</td>\n",
       "      <td>NaN</td>\n",
       "    </tr>\n",
       "    <tr>\n",
       "      <th>mean</th>\n",
       "      <td>2013-01-27 07:22:03.399547904</td>\n",
       "      <td>NaN</td>\n",
       "      <td>1.416446e+04</td>\n",
       "    </tr>\n",
       "    <tr>\n",
       "      <th>min</th>\n",
       "      <td>1992-07-01 00:00:00</td>\n",
       "      <td>NaN</td>\n",
       "      <td>-2.375993e+06</td>\n",
       "    </tr>\n",
       "    <tr>\n",
       "      <th>25%</th>\n",
       "      <td>2007-10-05 00:00:00</td>\n",
       "      <td>NaN</td>\n",
       "      <td>1.084600e+02</td>\n",
       "    </tr>\n",
       "    <tr>\n",
       "      <th>50%</th>\n",
       "      <td>2013-05-01 00:00:00</td>\n",
       "      <td>NaN</td>\n",
       "      <td>4.478000e+02</td>\n",
       "    </tr>\n",
       "    <tr>\n",
       "      <th>75%</th>\n",
       "      <td>2019-01-31 00:00:00</td>\n",
       "      <td>NaN</td>\n",
       "      <td>3.630000e+03</td>\n",
       "    </tr>\n",
       "    <tr>\n",
       "      <th>max</th>\n",
       "      <td>2022-09-08 00:00:00</td>\n",
       "      <td>NaN</td>\n",
       "      <td>8.053648e+06</td>\n",
       "    </tr>\n",
       "    <tr>\n",
       "      <th>std</th>\n",
       "      <td>NaN</td>\n",
       "      <td>NaN</td>\n",
       "      <td>1.145426e+05</td>\n",
       "    </tr>\n",
       "  </tbody>\n",
       "</table>\n",
       "</div>"
      ],
      "text/plain": [
       "                         FechaFactura Cod_Cli  TotalFactura\n",
       "count                           41582   41582  4.157900e+04\n",
       "unique                            NaN    5111           NaN\n",
       "top                               NaN    0110           NaN\n",
       "freq                              NaN    3678           NaN\n",
       "mean    2013-01-27 07:22:03.399547904     NaN  1.416446e+04\n",
       "min               1992-07-01 00:00:00     NaN -2.375993e+06\n",
       "25%               2007-10-05 00:00:00     NaN  1.084600e+02\n",
       "50%               2013-05-01 00:00:00     NaN  4.478000e+02\n",
       "75%               2019-01-31 00:00:00     NaN  3.630000e+03\n",
       "max               2022-09-08 00:00:00     NaN  8.053648e+06\n",
       "std                               NaN     NaN  1.145426e+05"
      ]
     },
     "execution_count": 28,
     "metadata": {},
     "output_type": "execute_result"
    }
   ],
   "source": [
    "df2.describe(include=\"all\", datetime_is_numeric=True)"
   ]
  },
  {
   "cell_type": "markdown",
   "metadata": {},
   "source": [
    "# Aggregate data"
   ]
  },
  {
   "cell_type": "code",
   "execution_count": 50,
   "metadata": {},
   "outputs": [],
   "source": [
    "df = (\n",
    "    df2.groupby([\"Cod_Cli\", df2[\"FechaFactura\"].dt.year])[\"TotalFactura\"]\n",
    "    .agg([\"sum\", \"count\"])\n",
    "    .reset_index()\n",
    ")\n",
    "df = df.rename(\n",
    "    columns={\n",
    "        \"FechaFactura\": \"Year\",\n",
    "        \"Cod_Cli\": \"Code\",\n",
    "        \"sum\": \"Sales\",\n",
    "        \"count\": \"Bills\",\n",
    "    }\n",
    ")\n",
    "# df.describe(include='all')\n",
    "# df.info()\n",
    "# df.head(10)\n",
    "\n",
    "# save data for future use\n",
    "df.to_csv('sales_and_bills.csv')\n"
   ]
  }
 ],
 "metadata": {
  "kernelspec": {
   "display_name": "Python 3.10.7 64-bit",
   "language": "python",
   "name": "python3"
  },
  "language_info": {
   "codemirror_mode": {
    "name": "ipython",
    "version": 3
   },
   "file_extension": ".py",
   "mimetype": "text/x-python",
   "name": "python",
   "nbconvert_exporter": "python",
   "pygments_lexer": "ipython3",
   "version": "3.10.7"
  },
  "orig_nbformat": 4,
  "vscode": {
   "interpreter": {
    "hash": "8474846839f4382df822f3ddf7b8f38a147bed526412c12773fe80e04b14e917"
   }
  }
 },
 "nbformat": 4,
 "nbformat_minor": 2
}
