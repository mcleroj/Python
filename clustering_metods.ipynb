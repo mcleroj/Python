{
 "cells": [
  {
   "cell_type": "markdown",
   "metadata": {},
   "source": [
    "https://www.kaggle.com/code/marcinrutecki/clustering-methods-comprehensive-study/notebook\n",
    "\n",
    "# Import Libraries"
   ]
  },
  {
   "cell_type": "code",
   "execution_count": 1,
   "metadata": {},
   "outputs": [],
   "source": [
    "import numpy as np\n",
    "import pandas as pd\n",
    "import matplotlib.pyplot as plt\n",
    "# from matplotlib import pyplot as plt\n",
    "%matplotlib inline\n",
    "\n",
    "from qvd import qvd_reader as qvd"
   ]
  },
  {
   "cell_type": "markdown",
   "metadata": {},
   "source": [
    "# Import data"
   ]
  },
  {
   "cell_type": "code",
   "execution_count": 44,
   "metadata": {},
   "outputs": [
    {
     "name": "stdout",
     "output_type": "stream",
     "text": [
      "<class 'pandas.core.frame.DataFrame'>\n",
      "RangeIndex: 41582 entries, 0 to 41581\n",
      "Data columns (total 3 columns):\n",
      " #   Column        Non-Null Count  Dtype \n",
      "---  ------        --------------  ----- \n",
      " 0   FechaFactura  41582 non-null  object\n",
      " 1   Cod_Cli       41582 non-null  object\n",
      " 2   TotalFactura  41579 non-null  object\n",
      "dtypes: object(3)\n",
      "memory usage: 974.7+ KB\n"
     ]
    }
   ],
   "source": [
    "file_path = \"Y:/Mercanza/ProyectosDVA/CM Proyectos/0. QVD\"\n",
    "raw_df = qvd.read(file_path + \"/vfacturas.qvd\")\n",
    "# raw_df.head()\n",
    "\n",
    "df_raw = raw_df[[\"FechaFactura\", \"Cod_Cli\", \"TotalFactura\"]].copy()\n",
    "df_raw.head()\n",
    "df_raw.info()\n"
   ]
  },
  {
   "cell_type": "markdown",
   "metadata": {},
   "source": [
    "# Convert data types"
   ]
  },
  {
   "cell_type": "code",
   "execution_count": 45,
   "metadata": {},
   "outputs": [
    {
     "name": "stdout",
     "output_type": "stream",
     "text": [
      "<class 'pandas.core.frame.DataFrame'>\n",
      "RangeIndex: 41582 entries, 0 to 41581\n",
      "Data columns (total 3 columns):\n",
      " #   Column        Non-Null Count  Dtype         \n",
      "---  ------        --------------  -----         \n",
      " 0   FechaFactura  41582 non-null  datetime64[ns]\n",
      " 1   Cod_Cli       41582 non-null  string        \n",
      " 2   TotalFactura  41579 non-null  float32       \n",
      "dtypes: datetime64[ns](1), float32(1), string(1)\n",
      "memory usage: 812.3 KB\n"
     ]
    },
    {
     "data": {
      "text/html": [
       "<div>\n",
       "<style scoped>\n",
       "    .dataframe tbody tr th:only-of-type {\n",
       "        vertical-align: middle;\n",
       "    }\n",
       "\n",
       "    .dataframe tbody tr th {\n",
       "        vertical-align: top;\n",
       "    }\n",
       "\n",
       "    .dataframe thead th {\n",
       "        text-align: right;\n",
       "    }\n",
       "</style>\n",
       "<table border=\"1\" class=\"dataframe\">\n",
       "  <thead>\n",
       "    <tr style=\"text-align: right;\">\n",
       "      <th></th>\n",
       "      <th>FechaFactura</th>\n",
       "      <th>Cod_Cli</th>\n",
       "      <th>TotalFactura</th>\n",
       "    </tr>\n",
       "  </thead>\n",
       "  <tbody>\n",
       "    <tr>\n",
       "      <th>0</th>\n",
       "      <td>2000-01-03</td>\n",
       "      <td>21889</td>\n",
       "      <td>20880.0</td>\n",
       "    </tr>\n",
       "    <tr>\n",
       "      <th>1</th>\n",
       "      <td>2000-01-03</td>\n",
       "      <td>22013</td>\n",
       "      <td>222706.0</td>\n",
       "    </tr>\n",
       "    <tr>\n",
       "      <th>2</th>\n",
       "      <td>2000-01-03</td>\n",
       "      <td>22052</td>\n",
       "      <td>25881.0</td>\n",
       "    </tr>\n",
       "    <tr>\n",
       "      <th>3</th>\n",
       "      <td>2000-01-03</td>\n",
       "      <td>22171</td>\n",
       "      <td>103523.0</td>\n",
       "    </tr>\n",
       "    <tr>\n",
       "      <th>4</th>\n",
       "      <td>2000-01-04</td>\n",
       "      <td>22020</td>\n",
       "      <td>156600.0</td>\n",
       "    </tr>\n",
       "  </tbody>\n",
       "</table>\n",
       "</div>"
      ],
      "text/plain": [
       "  FechaFactura Cod_Cli  TotalFactura\n",
       "0   2000-01-03   21889       20880.0\n",
       "1   2000-01-03   22013      222706.0\n",
       "2   2000-01-03   22052       25881.0\n",
       "3   2000-01-03   22171      103523.0\n",
       "4   2000-01-04   22020      156600.0"
      ]
     },
     "execution_count": 45,
     "metadata": {},
     "output_type": "execute_result"
    }
   ],
   "source": [
    "type_table = {\"FechaFactura\": \"int32\", \"Cod_Cli\": \"string\", \"TotalFactura\": \"float32\"}\n",
    "\n",
    "df_raw = df_raw.astype(type_table)\n",
    "df_raw[\"FechaFactura\"] = pd.to_datetime(\n",
    "    df_raw[\"FechaFactura\"], unit=\"D\", origin=\"1899-12-30\"  # Excel (Qlik) base\n",
    ")\n",
    "\n",
    "df_raw.info()\n",
    "df_raw.head()"
   ]
  },
  {
   "cell_type": "code",
   "execution_count": 46,
   "metadata": {},
   "outputs": [
    {
     "data": {
      "text/html": [
       "<div>\n",
       "<style scoped>\n",
       "    .dataframe tbody tr th:only-of-type {\n",
       "        vertical-align: middle;\n",
       "    }\n",
       "\n",
       "    .dataframe tbody tr th {\n",
       "        vertical-align: top;\n",
       "    }\n",
       "\n",
       "    .dataframe thead th {\n",
       "        text-align: right;\n",
       "    }\n",
       "</style>\n",
       "<table border=\"1\" class=\"dataframe\">\n",
       "  <thead>\n",
       "    <tr style=\"text-align: right;\">\n",
       "      <th></th>\n",
       "      <th>FechaFactura</th>\n",
       "      <th>Cod_Cli</th>\n",
       "      <th>TotalFactura</th>\n",
       "    </tr>\n",
       "  </thead>\n",
       "  <tbody>\n",
       "    <tr>\n",
       "      <th>count</th>\n",
       "      <td>41582</td>\n",
       "      <td>41582</td>\n",
       "      <td>4.157900e+04</td>\n",
       "    </tr>\n",
       "    <tr>\n",
       "      <th>unique</th>\n",
       "      <td>NaN</td>\n",
       "      <td>5111</td>\n",
       "      <td>NaN</td>\n",
       "    </tr>\n",
       "    <tr>\n",
       "      <th>top</th>\n",
       "      <td>NaN</td>\n",
       "      <td>0110</td>\n",
       "      <td>NaN</td>\n",
       "    </tr>\n",
       "    <tr>\n",
       "      <th>freq</th>\n",
       "      <td>NaN</td>\n",
       "      <td>3678</td>\n",
       "      <td>NaN</td>\n",
       "    </tr>\n",
       "    <tr>\n",
       "      <th>mean</th>\n",
       "      <td>2013-01-27 07:22:03.399547904</td>\n",
       "      <td>NaN</td>\n",
       "      <td>1.416446e+04</td>\n",
       "    </tr>\n",
       "    <tr>\n",
       "      <th>min</th>\n",
       "      <td>1992-07-01 00:00:00</td>\n",
       "      <td>NaN</td>\n",
       "      <td>-2.375993e+06</td>\n",
       "    </tr>\n",
       "    <tr>\n",
       "      <th>25%</th>\n",
       "      <td>2007-10-05 00:00:00</td>\n",
       "      <td>NaN</td>\n",
       "      <td>1.084600e+02</td>\n",
       "    </tr>\n",
       "    <tr>\n",
       "      <th>50%</th>\n",
       "      <td>2013-05-01 00:00:00</td>\n",
       "      <td>NaN</td>\n",
       "      <td>4.478000e+02</td>\n",
       "    </tr>\n",
       "    <tr>\n",
       "      <th>75%</th>\n",
       "      <td>2019-01-31 00:00:00</td>\n",
       "      <td>NaN</td>\n",
       "      <td>3.630000e+03</td>\n",
       "    </tr>\n",
       "    <tr>\n",
       "      <th>max</th>\n",
       "      <td>2022-09-08 00:00:00</td>\n",
       "      <td>NaN</td>\n",
       "      <td>8.053648e+06</td>\n",
       "    </tr>\n",
       "    <tr>\n",
       "      <th>std</th>\n",
       "      <td>NaN</td>\n",
       "      <td>NaN</td>\n",
       "      <td>1.145426e+05</td>\n",
       "    </tr>\n",
       "  </tbody>\n",
       "</table>\n",
       "</div>"
      ],
      "text/plain": [
       "                         FechaFactura Cod_Cli  TotalFactura\n",
       "count                           41582   41582  4.157900e+04\n",
       "unique                            NaN    5111           NaN\n",
       "top                               NaN    0110           NaN\n",
       "freq                              NaN    3678           NaN\n",
       "mean    2013-01-27 07:22:03.399547904     NaN  1.416446e+04\n",
       "min               1992-07-01 00:00:00     NaN -2.375993e+06\n",
       "25%               2007-10-05 00:00:00     NaN  1.084600e+02\n",
       "50%               2013-05-01 00:00:00     NaN  4.478000e+02\n",
       "75%               2019-01-31 00:00:00     NaN  3.630000e+03\n",
       "max               2022-09-08 00:00:00     NaN  8.053648e+06\n",
       "std                               NaN     NaN  1.145426e+05"
      ]
     },
     "execution_count": 46,
     "metadata": {},
     "output_type": "execute_result"
    }
   ],
   "source": [
    "df_raw.describe(include=\"all\", datetime_is_numeric=True)"
   ]
  },
  {
   "cell_type": "markdown",
   "metadata": {},
   "source": [
    "# Aggregate data"
   ]
  },
  {
   "cell_type": "code",
   "execution_count": 47,
   "metadata": {},
   "outputs": [],
   "source": [
    "df = (\n",
    "    df_raw.groupby([\"Cod_Cli\", df_raw[\"FechaFactura\"].dt.year])[\"TotalFactura\"]\n",
    "    .agg([\"sum\", \"count\"])\n",
    "    .reset_index()\n",
    ")\n",
    "df = df.rename(\n",
    "    columns={\n",
    "        \"FechaFactura\": \"Year\",\n",
    "        \"Cod_Cli\": \"Code\",\n",
    "        \"sum\": \"Sales\",\n",
    "        \"count\": \"Bills\",\n",
    "    }\n",
    ")\n",
    "# df.describe(include='all')\n",
    "# df.info()\n",
    "# df.head(10)\n",
    "\n",
    "# save data for future use\n",
    "df.to_csv('sales_and_bills.csv', index=False)\n"
   ]
  },
  {
   "cell_type": "code",
   "execution_count": 48,
   "metadata": {},
   "outputs": [
    {
     "data": {
      "text/plain": [
       "<matplotlib.collections.PathCollection at 0x1b84733a230>"
      ]
     },
     "execution_count": 48,
     "metadata": {},
     "output_type": "execute_result"
    },
    {
     "data": {
      "image/png": "[encoded data removed]",
      "text/plain": [
       "<Figure size 640x480 with 1 Axes>"
      ]
     },
     "metadata": {},
     "output_type": "display_data"
    }
   ],
   "source": [
    "plt.scatter(x=df.Sales, y=df.Bills)"
   ]
  },
  {
   "cell_type": "markdown",
   "metadata": {},
   "source": [
    "# Outlier detection"
   ]
  },
  {
   "cell_type": "code",
   "execution_count": 49,
   "metadata": {},
   "outputs": [],
   "source": [
    "from sklearn.ensemble import IsolationForest\n",
    "\n",
    "df2 = df.copy()\n",
    "df2 = df2.drop([\"Code\", \"Year\"], axis=1)"
   ]
  },
  {
   "cell_type": "code",
   "execution_count": 50,
   "metadata": {},
   "outputs": [
    {
     "name": "stdout",
     "output_type": "stream",
     "text": [
      "Outliers are 959 of 9,702 (9.9%).\n"
     ]
    }
   ],
   "source": [
    "model = IsolationForest()\n",
    "model.fit(df2)\n",
    "\n",
    "scores = model.decision_function(df2)\n",
    "anomaly = model.predict(df2)\n",
    "\n",
    "df2['scores'] = scores\n",
    "df2['anomaly'] = anomaly\n",
    "\n",
    "anomaly_index = list(df2.loc[df2['anomaly']==-1].index)\n",
    "outliers = len(anomaly_index)\n",
    "total = len(df2.index)\n",
    "print(\n",
    "    f\"Outliers are {outliers:,} of {total:,} ({outliers / total:.1%}).\"\n",
    ")"
   ]
  },
  {
   "cell_type": "code",
   "execution_count": 51,
   "metadata": {},
   "outputs": [
    {
     "data": {
      "text/plain": [
       "<matplotlib.collections.PathCollection at 0x1b84c79cb80>"
      ]
     },
     "execution_count": 51,
     "metadata": {},
     "output_type": "execute_result"
    },
    {
     "data": {
      "image/png": "[encoded data removed]",
      "text/plain": [
       "<Figure size 640x480 with 1 Axes>"
      ]
     },
     "metadata": {},
     "output_type": "display_data"
    }
   ],
   "source": [
    "df2\n",
    "plt.scatter(x=df2.Sales, y=df2.Bills, c=df2.anomaly)"
   ]
  },
  {
   "cell_type": "code",
   "execution_count": 52,
   "metadata": {},
   "outputs": [],
   "source": [
    "df2 = df2.drop(anomaly_index, axis=0).reset_index(drop=True)"
   ]
  },
  {
   "cell_type": "code",
   "execution_count": 53,
   "metadata": {},
   "outputs": [
    {
     "data": {
      "text/plain": [
       "(array([5521.,    0.,    0.,    0.,    0.,    0.,    0., 1107.,    0.,\n",
       "           0.,    0.,    0.,    0.,    0.,    0.,  604.,    0.,    0.,\n",
       "           0.,    0.,    0.,    0.,    0.,  367.,    0.,    0.,    0.,\n",
       "           0.,    0.,    0.,  250.,    0.,    0.,    0.,    0.,    0.,\n",
       "           0.,    0.,  189.,    0.,    0.,    0.,    0.,    0.,    0.,\n",
       "           0.,  131.,    0.,    0.,    0.,    0.,    0.,    0.,   99.,\n",
       "           0.,    0.,    0.,    0.,    0.,    0.,    0.,   81.,    0.,\n",
       "           0.,    0.,    0.,    0.,    0.,    0.,   50.,    0.,    0.,\n",
       "           0.,    0.,    0.,    0.,   66.,    0.,    0.,    0.,    0.,\n",
       "           0.,    0.,    0.,  141.,    0.,    0.,    0.,    0.,    0.,\n",
       "           0.,    0.,   89.,    0.,    0.,    0.,    0.,    0.,    0.,\n",
       "          48.]),\n",
       " array([ 1.  ,  1.13,  1.26,  1.39,  1.52,  1.65,  1.78,  1.91,  2.04,\n",
       "         2.17,  2.3 ,  2.43,  2.56,  2.69,  2.82,  2.95,  3.08,  3.21,\n",
       "         3.34,  3.47,  3.6 ,  3.73,  3.86,  3.99,  4.12,  4.25,  4.38,\n",
       "         4.51,  4.64,  4.77,  4.9 ,  5.03,  5.16,  5.29,  5.42,  5.55,\n",
       "         5.68,  5.81,  5.94,  6.07,  6.2 ,  6.33,  6.46,  6.59,  6.72,\n",
       "         6.85,  6.98,  7.11,  7.24,  7.37,  7.5 ,  7.63,  7.76,  7.89,\n",
       "         8.02,  8.15,  8.28,  8.41,  8.54,  8.67,  8.8 ,  8.93,  9.06,\n",
       "         9.19,  9.32,  9.45,  9.58,  9.71,  9.84,  9.97, 10.1 , 10.23,\n",
       "        10.36, 10.49, 10.62, 10.75, 10.88, 11.01, 11.14, 11.27, 11.4 ,\n",
       "        11.53, 11.66, 11.79, 11.92, 12.05, 12.18, 12.31, 12.44, 12.57,\n",
       "        12.7 , 12.83, 12.96, 13.09, 13.22, 13.35, 13.48, 13.61, 13.74,\n",
       "        13.87, 14.  ]),\n",
       " <BarContainer object of 100 artists>)"
      ]
     },
     "execution_count": 53,
     "metadata": {},
     "output_type": "execute_result"
    },
    {
     "data": {
      "image/png": "[encoded data removed]",
      "text/plain": [
       "<Figure size 640x480 with 4 Axes>"
      ]
     },
     "metadata": {},
     "output_type": "display_data"
    }
   ],
   "source": [
    "fig, axes = plt.subplots(2, 2)\n",
    "axes[0, 0].boxplot(x=df2.Sales, vert=False, labels=[\"\"])\n",
    "axes[0, 0].set(title=\"Sales\", xticklabels=\"\", xticks=[], yticks=[])\n",
    "axes[0, 1].boxplot(x=df2.Bills, vert=False, labels=[\"\"])\n",
    "axes[0, 1].set(title=\"Bills\", xticklabels=\"\", xticks=[], yticks=[])\n",
    "axes[1, 0].hist(x=df2.Sales, bins=100)\n",
    "axes[1, 1].hist(x=df2.Bills, bins=100)"
   ]
  },
  {
   "cell_type": "code",
   "execution_count": 54,
   "metadata": {},
   "outputs": [
    {
     "data": {
      "text/plain": [
       "<matplotlib.collections.PathCollection at 0x1b84acf9cf0>"
      ]
     },
     "execution_count": 54,
     "metadata": {},
     "output_type": "execute_result"
    },
    {
     "data": {
      "image/png": "[encoded data removed]",
      "text/plain": [
       "<Figure size 640x480 with 1 Axes>"
      ]
     },
     "metadata": {},
     "output_type": "display_data"
    }
   ],
   "source": [
    "plt.scatter(x=df2.Sales, y=df2.Bills)"
   ]
  },
  {
   "cell_type": "code",
   "execution_count": 55,
   "metadata": {},
   "outputs": [],
   "source": [
    "df2.drop(['scores', 'anomaly'], axis=1, inplace=True)"
   ]
  },
  {
   "cell_type": "markdown",
   "metadata": {},
   "source": [
    "# Scaling data"
   ]
  },
  {
   "cell_type": "code",
   "execution_count": 56,
   "metadata": {},
   "outputs": [
    {
     "data": {
      "text/plain": [
       "<matplotlib.collections.PathCollection at 0x1b84acbd180>"
      ]
     },
     "execution_count": 56,
     "metadata": {},
     "output_type": "execute_result"
    },
    {
     "data": {
      "image/png": "[encoded data removed]",
      "text/plain": [
       "<Figure size 640x480 with 1 Axes>"
      ]
     },
     "metadata": {},
     "output_type": "display_data"
    }
   ],
   "source": [
    "from sklearn.preprocessing import StandardScaler\n",
    "df3 = pd.DataFrame(StandardScaler().fit_transform(df2), columns=['Sales', 'Bills'])\n",
    "plt.scatter(x=df3.Sales, y=df3.Bills)"
   ]
  },
  {
   "cell_type": "code",
   "execution_count": 57,
   "metadata": {},
   "outputs": [],
   "source": [
    "# Determining The Optimal Number of clusters"
   ]
  }
 ],
 "metadata": {
  "kernelspec": {
   "display_name": "Python 3.10.7 64-bit",
   "language": "python",
   "name": "python3"
  },
  "language_info": {
   "codemirror_mode": {
    "name": "ipython",
    "version": 3
   },
   "file_extension": ".py",
   "mimetype": "text/x-python",
   "name": "python",
   "nbconvert_exporter": "python",
   "pygments_lexer": "ipython3",
   "version": "3.10.7"
  },
  "orig_nbformat": 4,
  "vscode": {
   "interpreter": {
    "hash": "8474846839f4382df822f3ddf7b8f38a147bed526412c12773fe80e04b14e917"
   }
  }
 },
 "nbformat": 4,
 "nbformat_minor": 2
}
