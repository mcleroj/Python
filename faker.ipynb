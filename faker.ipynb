{
 "cells": [
  {
   "attachments": {},
   "cell_type": "markdown",
   "metadata": {},
   "source": [
    "https://faker.readthedocs.io/en/master/index.html"
   ]
  },
  {
   "cell_type": "code",
   "execution_count": 8,
   "metadata": {},
   "outputs": [],
   "source": [
    "import pandas as pd\n",
    "from faker import Faker\n",
    "from collections import OrderedDict\n",
    "import pgeocode\n",
    "\n",
    "Faker.seed(0)"
   ]
  },
  {
   "cell_type": "code",
   "execution_count": 26,
   "metadata": {},
   "outputs": [],
   "source": [
    "locales = OrderedDict(\n",
    "    [\n",
    "        (\"es-ES\", 0.1),\n",
    "        (\"es-MX\", 0.1),\n",
    "        (\"fr-FR\", 0.1),\n",
    "        (\"pl-PL\", 0.1),\n",
    "        (\"lv-LV\", 0.1),\n",
    "        (\"el_GR\", 0.5),\n",
    "        (\"en-US\", 0.1),\n",
    "    ]\n",
    ")\n",
    "\n",
    "fake = Faker(locales)\n",
    "\n",
    "# names = []\n",
    "# for i in range(10):\n",
    "#     ilocal, *_ = fake.random_elements(elements=locales, length=1, use_weighting=True)\n",
    "#     name = {\n",
    "#         \"local\": ilocal,\n",
    "#         1: fake[ilocal].street_address(),\n",
    "#         # 1:fake['el_GR'].profile(),\n",
    "#         # 1:fake.random_elements(elements=locales, length=1, use_weighting=True),\n",
    "#         # 2:fake['es-ES'].administrative_unit(),\n",
    "#         # 3:fake['es-ES'].autonomous_community(),\n",
    "#         # 4:fake['es-ES'].city(),\n",
    "#         5: fake[ilocal].postcode(),\n",
    "#         # 6:fake['es-ES'].region(),\n",
    "#     }\n",
    "#     names.append(name)\n",
    "\n",
    "# for i in range(len(names)):\n",
    "#     print(type(names[i]))  # = 'Ku'\n",
    "\n",
    "# names"
   ]
  },
  {
   "cell_type": "code",
   "execution_count": 82,
   "metadata": {},
   "outputs": [],
   "source": [
    "df1 = pd.DataFrame(index=range(1000))\n",
    "df1['company_MX'] = [fake['pl-PL'].company() for _ in df1.index]\n",
    "# df1['company_ES'] = [fake['es-ES'].company() for _ in df1.index]\n",
    "# df1['suff_MX'] = [fake['es-MX'].company_suffix() for _ in df1.index]\n",
    "# df1['suff_ES'] = [fake['es-ES'].company_suffix() for _ in df1.index]\n",
    "# df1['lorem_BG'] = [fake['en-US'].words() for _ in df1.index]\n",
    "# df1['lorem_ES'] = [fake['es-MX'].words() for _ in df1.index]\n",
    "\n",
    "# suff_MX = list(df1['suff_MX'].unique())\n",
    "# suff_ES = list(df1['suff_ES'].unique())"
   ]
  },
  {
   "cell_type": "code",
   "execution_count": 80,
   "metadata": {},
   "outputs": [
    {
     "data": {
      "text/plain": [
       "'Beige limón'"
      ]
     },
     "execution_count": 80,
     "metadata": {},
     "output_type": "execute_result"
    }
   ],
   "source": [
    "fake['es-ES'].color_name()      # noun, verb, adjective, adverb"
   ]
  },
  {
   "cell_type": "code",
   "execution_count": 28,
   "metadata": {},
   "outputs": [],
   "source": [
    "import numpy as np\n",
    "import matplotlib.pyplot as plt\n",
    "import pandas as pd\n",
    "%matplotlib inline\n",
    "np.set_printoptions(precision=4, suppress=True)"
   ]
  },
  {
   "cell_type": "code",
   "execution_count": 29,
   "metadata": {},
   "outputs": [],
   "source": [
    "rng = np.random.default_rng(seed=42)\n",
    "size = 10000\n"
   ]
  },
  {
   "cell_type": "code",
   "execution_count": 41,
   "metadata": {},
   "outputs": [],
   "source": [
    "dist = pd.DataFrame(index=range(size))\n",
    "\n",
    "dist[\"random\"] = rng.random(size)\n",
    "dist[\"uniform\"] = rng.uniform(size=size)\n",
    "\n",
    "dist[\"exponential\"] = rng.exponential(size=size)\n",
    "dist[\"geometric\"] = rng.geometric(0.001, size=size)\n",
    "\n",
    "dist[\"logistic\"] = rng.logistic(size=size)\n",
    "dist[\"chisquare\"] = rng.chisquare(1, size)\n",
    "dist[\"gamma\"] = rng.gamma(1, size=size)\n",
    "dist[\"poisson\"] = rng.poisson(1, size=size)"
   ]
  },
  {
   "cell_type": "code",
   "execution_count": 42,
   "metadata": {},
   "outputs": [
    {
     "data": {
      "text/plain": [
       "(array([3646., 3658., 1866.,    0.,  627.,  170.,    0.,   23.,    8.,\n",
       "           2.]),\n",
       " array([0. , 0.7, 1.4, 2.1, 2.8, 3.5, 4.2, 4.9, 5.6, 6.3, 7. ]),\n",
       " <BarContainer object of 10 artists>)"
      ]
     },
     "execution_count": 42,
     "metadata": {},
     "output_type": "execute_result"
    },
    {
     "data": {
      "image/png": "[encoded data removed]",
      "text/plain": [
       "<Figure size 640x480 with 8 Axes>"
      ]
     },
     "metadata": {},
     "output_type": "display_data"
    }
   ],
   "source": [
    "fig, axes = plt.subplots(4, 2)\n",
    "axes[0, 0].hist(dist[\"random\"])\n",
    "axes[0, 1].hist(dist[\"uniform\"])\n",
    "\n",
    "axes[1, 0].hist(dist[\"exponential\"])\n",
    "axes[1, 1].hist(dist[\"geometric\"])\n",
    "\n",
    "axes[2, 0].hist(dist[\"logistic\"])\n",
    "axes[2, 1].hist(dist[\"chisquare\"])\n",
    "axes[3, 0].hist(dist[\"gamma\"])\n",
    "axes[3, 1].hist(dist[\"poisson\"])"
   ]
  },
  {
   "cell_type": "code",
   "execution_count": 43,
   "metadata": {},
   "outputs": [
    {
     "data": {
      "text/html": [
       "<div>\n",
       "<style scoped>\n",
       "    .dataframe tbody tr th:only-of-type {\n",
       "        vertical-align: middle;\n",
       "    }\n",
       "\n",
       "    .dataframe tbody tr th {\n",
       "        vertical-align: top;\n",
       "    }\n",
       "\n",
       "    .dataframe thead th {\n",
       "        text-align: right;\n",
       "    }\n",
       "</style>\n",
       "<table border=\"1\" class=\"dataframe\">\n",
       "  <thead>\n",
       "    <tr style=\"text-align: right;\">\n",
       "      <th></th>\n",
       "      <th>count</th>\n",
       "      <th>mean</th>\n",
       "      <th>std</th>\n",
       "      <th>min</th>\n",
       "      <th>25%</th>\n",
       "      <th>50%</th>\n",
       "      <th>75%</th>\n",
       "      <th>max</th>\n",
       "    </tr>\n",
       "  </thead>\n",
       "  <tbody>\n",
       "    <tr>\n",
       "      <th>random</th>\n",
       "      <td>10000.0</td>\n",
       "      <td>0.498439</td>\n",
       "      <td>0.288693</td>\n",
       "      <td>6.609109e-06</td>\n",
       "      <td>0.251010</td>\n",
       "      <td>0.496623</td>\n",
       "      <td>0.751082</td>\n",
       "      <td>0.999933</td>\n",
       "    </tr>\n",
       "    <tr>\n",
       "      <th>uniform</th>\n",
       "      <td>10000.0</td>\n",
       "      <td>0.498479</td>\n",
       "      <td>0.288638</td>\n",
       "      <td>2.436665e-06</td>\n",
       "      <td>0.250061</td>\n",
       "      <td>0.497898</td>\n",
       "      <td>0.749946</td>\n",
       "      <td>0.999993</td>\n",
       "    </tr>\n",
       "    <tr>\n",
       "      <th>exponential</th>\n",
       "      <td>10000.0</td>\n",
       "      <td>0.999040</td>\n",
       "      <td>1.002894</td>\n",
       "      <td>4.173695e-05</td>\n",
       "      <td>0.288607</td>\n",
       "      <td>0.692869</td>\n",
       "      <td>1.377808</td>\n",
       "      <td>8.851581</td>\n",
       "    </tr>\n",
       "    <tr>\n",
       "      <th>geometric</th>\n",
       "      <td>10000.0</td>\n",
       "      <td>1000.969300</td>\n",
       "      <td>996.258783</td>\n",
       "      <td>1.000000e+00</td>\n",
       "      <td>298.000000</td>\n",
       "      <td>697.000000</td>\n",
       "      <td>1382.000000</td>\n",
       "      <td>9046.000000</td>\n",
       "    </tr>\n",
       "    <tr>\n",
       "      <th>logistic</th>\n",
       "      <td>10000.0</td>\n",
       "      <td>-0.055111</td>\n",
       "      <td>1.820059</td>\n",
       "      <td>-9.371292e+00</td>\n",
       "      <td>-1.149311</td>\n",
       "      <td>-0.028886</td>\n",
       "      <td>1.060127</td>\n",
       "      <td>9.072970</td>\n",
       "    </tr>\n",
       "    <tr>\n",
       "      <th>chisquare</th>\n",
       "      <td>10000.0</td>\n",
       "      <td>1.003681</td>\n",
       "      <td>1.465586</td>\n",
       "      <td>1.613679e-08</td>\n",
       "      <td>0.103573</td>\n",
       "      <td>0.462691</td>\n",
       "      <td>1.301003</td>\n",
       "      <td>20.624355</td>\n",
       "    </tr>\n",
       "    <tr>\n",
       "      <th>gamma</th>\n",
       "      <td>10000.0</td>\n",
       "      <td>1.000186</td>\n",
       "      <td>1.001047</td>\n",
       "      <td>6.220365e-05</td>\n",
       "      <td>0.290912</td>\n",
       "      <td>0.689366</td>\n",
       "      <td>1.387947</td>\n",
       "      <td>11.159258</td>\n",
       "    </tr>\n",
       "    <tr>\n",
       "      <th>poisson</th>\n",
       "      <td>10000.0</td>\n",
       "      <td>1.012800</td>\n",
       "      <td>1.009425</td>\n",
       "      <td>0.000000e+00</td>\n",
       "      <td>0.000000</td>\n",
       "      <td>1.000000</td>\n",
       "      <td>2.000000</td>\n",
       "      <td>7.000000</td>\n",
       "    </tr>\n",
       "  </tbody>\n",
       "</table>\n",
       "</div>"
      ],
      "text/plain": [
       "               count         mean         std           min         25%  \\\n",
       "random       10000.0     0.498439    0.288693  6.609109e-06    0.251010   \n",
       "uniform      10000.0     0.498479    0.288638  2.436665e-06    0.250061   \n",
       "exponential  10000.0     0.999040    1.002894  4.173695e-05    0.288607   \n",
       "geometric    10000.0  1000.969300  996.258783  1.000000e+00  298.000000   \n",
       "logistic     10000.0    -0.055111    1.820059 -9.371292e+00   -1.149311   \n",
       "chisquare    10000.0     1.003681    1.465586  1.613679e-08    0.103573   \n",
       "gamma        10000.0     1.000186    1.001047  6.220365e-05    0.290912   \n",
       "poisson      10000.0     1.012800    1.009425  0.000000e+00    0.000000   \n",
       "\n",
       "                    50%          75%          max  \n",
       "random         0.496623     0.751082     0.999933  \n",
       "uniform        0.497898     0.749946     0.999993  \n",
       "exponential    0.692869     1.377808     8.851581  \n",
       "geometric    697.000000  1382.000000  9046.000000  \n",
       "logistic      -0.028886     1.060127     9.072970  \n",
       "chisquare      0.462691     1.301003    20.624355  \n",
       "gamma          0.689366     1.387947    11.159258  \n",
       "poisson        1.000000     2.000000     7.000000  "
      ]
     },
     "execution_count": 43,
     "metadata": {},
     "output_type": "execute_result"
    }
   ],
   "source": [
    "dist.describe().T\n"
   ]
  }
 ],
 "metadata": {
  "kernelspec": {
   "display_name": "Python 3.10.7 64-bit",
   "language": "python",
   "name": "python3"
  },
  "language_info": {
   "codemirror_mode": {
    "name": "ipython",
    "version": 3
   },
   "file_extension": ".py",
   "mimetype": "text/x-python",
   "name": "python",
   "nbconvert_exporter": "python",
   "pygments_lexer": "ipython3",
   "version": "3.10.7 (tags/v3.10.7:6cc6b13, Sep  5 2022, 14:08:36) [MSC v.1933 64 bit (AMD64)]"
  },
  "orig_nbformat": 4,
  "vscode": {
   "interpreter": {
    "hash": "8474846839f4382df822f3ddf7b8f38a147bed526412c12773fe80e04b14e917"
   }
  }
 },
 "nbformat": 4,
 "nbformat_minor": 2
}
