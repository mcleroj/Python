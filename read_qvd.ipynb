{
 "cells": [
  {
   "cell_type": "code",
   "execution_count": 1,
   "metadata": {},
   "outputs": [
    {
     "name": "stdout",
     "output_type": "stream",
     "text": [
      "Collecting qvdNote: you may need to restart the kernel to use updated packages.\n",
      "\n",
      "  Downloading qvd-0.0.14-cp310-none-win_amd64.whl (511 kB)\n",
      "     ------------------------------------- 511.5/511.5 kB 16.2 MB/s eta 0:00:00\n",
      "Requirement already satisfied: pandas>=1.1.4 in c:\\users\\sergejs.kutkovics\\appdata\\local\\programs\\python\\python310\\lib\\site-packages (from qvd) (1.4.4)\n",
      "Requirement already satisfied: pytz>=2020.1 in c:\\users\\sergejs.kutkovics\\appdata\\local\\programs\\python\\python310\\lib\\site-packages (from pandas>=1.1.4->qvd) (2022.2.1)\n",
      "Requirement already satisfied: python-dateutil>=2.8.1 in c:\\users\\sergejs.kutkovics\\appdata\\roaming\\python\\python310\\site-packages (from pandas>=1.1.4->qvd) (2.8.2)\n",
      "Requirement already satisfied: numpy>=1.21.0 in c:\\users\\sergejs.kutkovics\\appdata\\local\\programs\\python\\python310\\lib\\site-packages (from pandas>=1.1.4->qvd) (1.23.2)\n",
      "Requirement already satisfied: six>=1.5 in c:\\users\\sergejs.kutkovics\\appdata\\roaming\\python\\python310\\site-packages (from python-dateutil>=2.8.1->pandas>=1.1.4->qvd) (1.16.0)\n",
      "Installing collected packages: qvd\n",
      "Successfully installed qvd-0.0.14\n"
     ]
    },
    {
     "name": "stderr",
     "output_type": "stream",
     "text": [
      "\n",
      "[notice] A new release of pip available: 22.2.2 -> 22.3.1\n",
      "[notice] To update, run: python.exe -m pip install --upgrade pip\n"
     ]
    }
   ],
   "source": [
    "pip install qvd"
   ]
  },
  {
   "cell_type": "code",
   "execution_count": 34,
   "metadata": {},
   "outputs": [],
   "source": [
    "import qvd\n",
    "from qvd import qvd_reader\n",
    "import pandas as pd"
   ]
  },
  {
   "cell_type": "code",
   "execution_count": 46,
   "metadata": {},
   "outputs": [
    {
     "name": "stdout",
     "output_type": "stream",
     "text": [
      "Help on class TestQvdReader in module qvd.test_qvd_reader:\n",
      "\n",
      "class TestQvdReader(builtins.object)\n",
      " |  Methods defined here:\n",
      " |  \n",
      " |  test_read_shape(self)\n",
      " |  \n",
      " |  test_read_size(self)\n",
      " |  \n",
      " |  ----------------------------------------------------------------------\n",
      " |  Data descriptors defined here:\n",
      " |  \n",
      " |  __dict__\n",
      " |      dictionary for instance variables (if defined)\n",
      " |  \n",
      " |  __weakref__\n",
      " |      list of weak references to the object (if defined)\n",
      "\n"
     ]
    }
   ],
   "source": [
    "# help(qvd)\n",
    "file_name = \"C:/Users/sergejs.kutkovics/AppData/Local/Programs/Qlik/Sense/DataPrepService/assets/geo/countryAliases.qvd\"\n",
    "# df = pd.DataFrame(qvd_reader.read(file_name))         # read_to_dict(file_name)\n",
    "# df.head()"
   ]
  }
 ],
 "metadata": {
  "kernelspec": {
   "display_name": "Python 3.10.7 64-bit",
   "language": "python",
   "name": "python3"
  },
  "language_info": {
   "codemirror_mode": {
    "name": "ipython",
    "version": 3
   },
   "file_extension": ".py",
   "mimetype": "text/x-python",
   "name": "python",
   "nbconvert_exporter": "python",
   "pygments_lexer": "ipython3",
   "version": "3.10.7"
  },
  "orig_nbformat": 4,
  "vscode": {
   "interpreter": {
    "hash": "8474846839f4382df822f3ddf7b8f38a147bed526412c12773fe80e04b14e917"
   }
  }
 },
 "nbformat": 4,
 "nbformat_minor": 2
}
