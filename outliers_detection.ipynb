{
 "cells": [
  {
   "cell_type": "markdown",
   "metadata": {},
   "source": [
    "https://www.kaggle.com/code/marcinrutecki/outlier-detection-methods\n",
    "\n",
    "# Import Libraries"
   ]
  },
  {
   "cell_type": "code",
   "execution_count": 47,
   "metadata": {},
   "outputs": [],
   "source": [
    "import numpy as np\n",
    "import pandas as pd\n",
    "import matplotlib.pyplot as plt\n",
    "from collections import Counter\n",
    "\n",
    "%matplotlib inline"
   ]
  },
  {
   "cell_type": "markdown",
   "metadata": {},
   "source": [
    "# Import data"
   ]
  },
  {
   "cell_type": "code",
   "execution_count": 74,
   "metadata": {},
   "outputs": [
    {
     "name": "stdout",
     "output_type": "stream",
     "text": [
      "      Code  Year        Sales  Bills\n",
      "0      110  1999  16147961.00    180\n",
      "1      110  2000  45873960.00    267\n",
      "2      110  2001  40402180.00    214\n",
      "3      110  2002    232776.31    218\n",
      "4      110  2003    331355.00    316\n",
      "...    ...   ...          ...    ...\n",
      "9697  8871  2018      4069.24      4\n",
      "9698  8871  2019      7874.48      2\n",
      "9699  8871  2020      3694.29      1\n",
      "9700  8871  2021      3879.01      1\n",
      "9701  8871  2022      5077.61      3\n",
      "\n",
      "[9702 rows x 4 columns]\n"
     ]
    }
   ],
   "source": [
    "type_table = {\"Code\": \"int32\", \"Year\": \"int32\", \"Sales\": \"float32\", \"Bills\": \"int16\"}\n",
    "df_raw = pd.read_csv(\"sales_and_bills.csv\", index_col=False)\n",
    "# df_raw.info"
   ]
  },
  {
   "cell_type": "markdown",
   "metadata": {},
   "source": [
    "# Some Visualizations"
   ]
  },
  {
   "cell_type": "code",
   "execution_count": 60,
   "metadata": {},
   "outputs": [
    {
     "data": {
      "text/plain": [
       "(array([8.461e+03, 6.850e+02, 2.700e+02, 1.050e+02, 6.700e+01, 2.500e+01,\n",
       "        1.100e+01, 1.900e+01, 7.000e+00, 3.000e+00, 7.000e+00, 1.000e+00,\n",
       "        8.000e+00, 3.000e+00, 2.000e+00, 1.000e+00, 2.000e+00, 3.000e+00,\n",
       "        3.000e+00, 1.000e+00, 1.000e+00, 0.000e+00, 1.000e+00, 0.000e+00,\n",
       "        0.000e+00, 0.000e+00, 1.000e+00, 0.000e+00, 1.000e+00, 1.000e+00,\n",
       "        0.000e+00, 2.000e+00, 1.000e+00, 0.000e+00, 2.000e+00, 0.000e+00,\n",
       "        0.000e+00, 1.000e+00, 0.000e+00, 0.000e+00, 0.000e+00, 0.000e+00,\n",
       "        1.000e+00, 0.000e+00, 0.000e+00, 0.000e+00, 0.000e+00, 0.000e+00,\n",
       "        0.000e+00, 0.000e+00, 1.000e+00, 0.000e+00, 0.000e+00, 0.000e+00,\n",
       "        0.000e+00, 0.000e+00, 0.000e+00, 0.000e+00, 0.000e+00, 0.000e+00,\n",
       "        0.000e+00, 1.000e+00, 0.000e+00, 0.000e+00, 0.000e+00, 0.000e+00,\n",
       "        0.000e+00, 1.000e+00, 0.000e+00, 0.000e+00, 0.000e+00, 1.000e+00,\n",
       "        0.000e+00, 0.000e+00, 0.000e+00, 1.000e+00, 0.000e+00, 0.000e+00,\n",
       "        0.000e+00, 0.000e+00, 0.000e+00, 0.000e+00, 0.000e+00, 0.000e+00,\n",
       "        0.000e+00, 0.000e+00, 0.000e+00, 0.000e+00, 0.000e+00, 0.000e+00,\n",
       "        0.000e+00, 0.000e+00, 0.000e+00, 0.000e+00, 0.000e+00, 0.000e+00,\n",
       "        0.000e+00, 0.000e+00, 0.000e+00, 1.000e+00]),\n",
       " array([  1.  ,   7.25,  13.5 ,  19.75,  26.  ,  32.25,  38.5 ,  44.75,\n",
       "         51.  ,  57.25,  63.5 ,  69.75,  76.  ,  82.25,  88.5 ,  94.75,\n",
       "        101.  , 107.25, 113.5 , 119.75, 126.  , 132.25, 138.5 , 144.75,\n",
       "        151.  , 157.25, 163.5 , 169.75, 176.  , 182.25, 188.5 , 194.75,\n",
       "        201.  , 207.25, 213.5 , 219.75, 226.  , 232.25, 238.5 , 244.75,\n",
       "        251.  , 257.25, 263.5 , 269.75, 276.  , 282.25, 288.5 , 294.75,\n",
       "        301.  , 307.25, 313.5 , 319.75, 326.  , 332.25, 338.5 , 344.75,\n",
       "        351.  , 357.25, 363.5 , 369.75, 376.  , 382.25, 388.5 , 394.75,\n",
       "        401.  , 407.25, 413.5 , 419.75, 426.  , 432.25, 438.5 , 444.75,\n",
       "        451.  , 457.25, 463.5 , 469.75, 476.  , 482.25, 488.5 , 494.75,\n",
       "        501.  , 507.25, 513.5 , 519.75, 526.  , 532.25, 538.5 , 544.75,\n",
       "        551.  , 557.25, 563.5 , 569.75, 576.  , 582.25, 588.5 , 594.75,\n",
       "        601.  , 607.25, 613.5 , 619.75, 626.  ]),\n",
       " <BarContainer object of 100 artists>)"
      ]
     },
     "execution_count": 60,
     "metadata": {},
     "output_type": "execute_result"
    },
    {
     "data": {
      "image/png": "[encoded data removed]",
      "text/plain": [
       "<Figure size 640x480 with 4 Axes>"
      ]
     },
     "metadata": {},
     "output_type": "display_data"
    }
   ],
   "source": [
    "fig, axes = plt.subplots(2, 2)\n",
    "\n",
    "# df_raw.boxplot(column='Sales', ax=axes[0, 0])\n",
    "# df_raw.boxplot(column='Bills', ax=axes[0, 1])\n",
    "axes[0, 0].boxplot(x=df_raw.Sales, vert=False, labels=[\"\"])\n",
    "axes[0, 0].set(title=\"Sales\", xticklabels=\"\", xticks=[], yticks=[])\n",
    "axes[0, 1].boxplot(x=df_raw.Bills, vert=False, labels=[\"\"])\n",
    "axes[0, 1].set(title=\"Bills\", xticklabels=\"\", xticks=[], yticks=[])\n",
    "axes[1, 0].hist(x=df_raw.Sales, bins=100)\n",
    "axes[1, 1].hist(x=df_raw.Bills, bins=100)"
   ]
  },
  {
   "cell_type": "markdown",
   "metadata": {},
   "source": [
    "# Tukey's IQR method"
   ]
  },
  {
   "cell_type": "code",
   "execution_count": 112,
   "metadata": {},
   "outputs": [],
   "source": [
    "def iqr_outliers(df, features, n=1):\n",
    "    \"\"\"\n",
    "    Takes a dataframe <df> and returns an index list corresponding to the observations\n",
    "    containing more than or equal to <n> outliers in the listed <features> \n",
    "    according to the Tukey IQR method.\n",
    "    \"\"\"\n",
    "    outlier_list = []\n",
    "\n",
    "    for column in features:\n",
    "        # calculate 1st quartile\n",
    "        Q1 = np.percentile(df[column], 25)\n",
    "        # calculate 3rd quartile\n",
    "        Q3 = np.percentile(df[column], 75)\n",
    "        # Interquartile range (IQR)\n",
    "        IQR = Q3 - Q1\n",
    "        # outlier step\n",
    "        outlier_step = 1.5 * IQR\n",
    "        # outliers' indeces for a column\n",
    "        outlier_list_column = df[\n",
    "            (df[column] < Q1 - outlier_step) | (df[column] > Q3 + outlier_step)\n",
    "        ].index\n",
    "        # appending the list of outliers\n",
    "        outlier_list.extend(outlier_list_column)\n",
    "\n",
    "    # counting number of outliers for an index\n",
    "    outlier_list = Counter(outlier_list)\n",
    "    #\n",
    "    multiple_outliers = list(k for k, v in outlier_list.items() if v >= n)\n",
    "\n",
    "    # Calculate the number of records below and above lower and above bound value respectively\n",
    "    outliers = len(multiple_outliers)\n",
    "    total = len(df.index)\n",
    "\n",
    "    print(\n",
    "        f\"Outliers are {outliers} elements out of {total},  which is {outliers/total:.1%} of data.\"\n",
    "    )\n",
    "\n",
    "    return multiple_outliers"
   ]
  },
  {
   "cell_type": "code",
   "execution_count": 115,
   "metadata": {},
   "outputs": [
    {
     "name": "stdout",
     "output_type": "stream",
     "text": [
      "Outliers are 1623 elements out of 9702,  which is 16.7% of data.\n"
     ]
    },
    {
     "data": {
      "text/plain": [
       "(array([5.31e+03, 9.70e+02, 0.00e+00, 4.94e+02, 2.76e+02, 0.00e+00,\n",
       "        1.76e+02, 0.00e+00, 1.33e+02, 8.80e+01, 0.00e+00, 7.00e+01,\n",
       "        0.00e+00, 6.40e+01, 4.20e+01, 0.00e+00, 4.90e+01, 0.00e+00,\n",
       "        1.27e+02, 7.00e+01, 0.00e+00, 5.00e+01, 3.00e+01, 0.00e+00,\n",
       "        2.20e+01, 0.00e+00, 1.00e+01, 1.50e+01, 0.00e+00, 8.00e+00,\n",
       "        0.00e+00, 7.00e+00, 1.50e+01, 0.00e+00, 7.00e+00, 0.00e+00,\n",
       "        5.00e+00, 6.00e+00, 0.00e+00, 7.00e+00, 2.00e+00, 0.00e+00,\n",
       "        2.00e+00, 0.00e+00, 2.00e+00, 3.00e+00, 0.00e+00, 2.00e+00,\n",
       "        0.00e+00, 2.00e+00, 0.00e+00, 0.00e+00, 1.00e+00, 0.00e+00,\n",
       "        0.00e+00, 4.00e+00, 0.00e+00, 0.00e+00, 0.00e+00, 2.00e+00,\n",
       "        0.00e+00, 0.00e+00, 2.00e+00, 1.00e+00, 0.00e+00, 1.00e+00,\n",
       "        0.00e+00, 0.00e+00, 0.00e+00, 0.00e+00, 0.00e+00, 0.00e+00,\n",
       "        0.00e+00, 0.00e+00, 0.00e+00, 0.00e+00, 0.00e+00, 0.00e+00,\n",
       "        1.00e+00, 0.00e+00, 0.00e+00, 1.00e+00, 0.00e+00, 0.00e+00,\n",
       "        0.00e+00, 0.00e+00, 0.00e+00, 0.00e+00, 1.00e+00, 0.00e+00,\n",
       "        0.00e+00, 0.00e+00, 0.00e+00, 0.00e+00, 0.00e+00, 0.00e+00,\n",
       "        0.00e+00, 0.00e+00, 0.00e+00, 1.00e+00]),\n",
       " array([ 1.  ,  1.61,  2.22,  2.83,  3.44,  4.05,  4.66,  5.27,  5.88,\n",
       "         6.49,  7.1 ,  7.71,  8.32,  8.93,  9.54, 10.15, 10.76, 11.37,\n",
       "        11.98, 12.59, 13.2 , 13.81, 14.42, 15.03, 15.64, 16.25, 16.86,\n",
       "        17.47, 18.08, 18.69, 19.3 , 19.91, 20.52, 21.13, 21.74, 22.35,\n",
       "        22.96, 23.57, 24.18, 24.79, 25.4 , 26.01, 26.62, 27.23, 27.84,\n",
       "        28.45, 29.06, 29.67, 30.28, 30.89, 31.5 , 32.11, 32.72, 33.33,\n",
       "        33.94, 34.55, 35.16, 35.77, 36.38, 36.99, 37.6 , 38.21, 38.82,\n",
       "        39.43, 40.04, 40.65, 41.26, 41.87, 42.48, 43.09, 43.7 , 44.31,\n",
       "        44.92, 45.53, 46.14, 46.75, 47.36, 47.97, 48.58, 49.19, 49.8 ,\n",
       "        50.41, 51.02, 51.63, 52.24, 52.85, 53.46, 54.07, 54.68, 55.29,\n",
       "        55.9 , 56.51, 57.12, 57.73, 58.34, 58.95, 59.56, 60.17, 60.78,\n",
       "        61.39, 62.  ]),\n",
       " <BarContainer object of 100 artists>)"
      ]
     },
     "execution_count": 115,
     "metadata": {},
     "output_type": "execute_result"
    },
    {
     "data": {
      "image/png": "[encoded data removed]",
      "text/plain": [
       "<Figure size 640x480 with 2 Axes>"
      ]
     },
     "metadata": {},
     "output_type": "display_data"
    }
   ],
   "source": [
    "outliers_iqr = iqr_outliers(df_raw, [\"Sales\"], 1)\n",
    "\n",
    "df_out = df_raw.drop(outliers_iqr, axis=0).reset_index(drop=True)\n",
    "\n",
    "fig, axes = plt.subplots(2)\n",
    "axes[0].hist(x=df_out.Sales, bins=100)\n",
    "axes[1].hist(x=df_out.Bills, bins=100)"
   ]
  },
  {
   "cell_type": "markdown",
   "metadata": {},
   "source": [
    "# Standard deviation method"
   ]
  },
  {
   "cell_type": "code",
   "execution_count": null,
   "metadata": {},
   "outputs": [],
   "source": [
    "def StDev_outliers (df, features, n=1, cutoff=3):\n",
    "    \"\"\"\n",
    "    Takes a dataframe <df> and returns an index list corresponding to the observations\n",
    "    containing more than or equal to <n> outliers in the listed <features> \n",
    "    according to the standard deviation method. The cutoff value <cutoff> in St. deviations.\n",
    "    \"\"\"\n",
    "    "
   ]
  }
 ],
 "metadata": {
  "kernelspec": {
   "display_name": "Python 3.10.7 64-bit",
   "language": "python",
   "name": "python3"
  },
  "language_info": {
   "codemirror_mode": {
    "name": "ipython",
    "version": 3
   },
   "file_extension": ".py",
   "mimetype": "text/x-python",
   "name": "python",
   "nbconvert_exporter": "python",
   "pygments_lexer": "ipython3",
   "version": "3.10.7"
  },
  "orig_nbformat": 4,
  "vscode": {
   "interpreter": {
    "hash": "8474846839f4382df822f3ddf7b8f38a147bed526412c12773fe80e04b14e917"
   }
  }
 },
 "nbformat": 4,
 "nbformat_minor": 2
}
