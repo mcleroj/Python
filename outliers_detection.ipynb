{
 "cells": [
  {
   "cell_type": "markdown",
   "metadata": {},
   "source": [
    "https://www.kaggle.com/code/marcinrutecki/outlier-detection-methods\n",
    "\n",
    "# Import Libraries"
   ]
  },
  {
   "cell_type": "code",
   "execution_count": 47,
   "metadata": {},
   "outputs": [],
   "source": [
    "import numpy as np\n",
    "import pandas as pd\n",
    "import matplotlib.pyplot as plt\n",
    "from collections import Counter\n",
    "\n",
    "%matplotlib inline"
   ]
  },
  {
   "cell_type": "markdown",
   "metadata": {},
   "source": [
    "# Import data"
   ]
  },
  {
   "cell_type": "code",
   "execution_count": 74,
   "metadata": {},
   "outputs": [
    {
     "name": "stdout",
     "output_type": "stream",
     "text": [
      "      Code  Year        Sales  Bills\n",
      "0      110  1999  16147961.00    180\n",
      "1      110  2000  45873960.00    267\n",
      "2      110  2001  40402180.00    214\n",
      "3      110  2002    232776.31    218\n",
      "4      110  2003    331355.00    316\n",
      "...    ...   ...          ...    ...\n",
      "9697  8871  2018      4069.24      4\n",
      "9698  8871  2019      7874.48      2\n",
      "9699  8871  2020      3694.29      1\n",
      "9700  8871  2021      3879.01      1\n",
      "9701  8871  2022      5077.61      3\n",
      "\n",
      "[9702 rows x 4 columns]\n"
     ]
    }
   ],
   "source": [
    "type_table = {\"Code\": \"int32\", \"Year\": \"int32\", \"Sales\": \"float32\", \"Bills\": \"int16\"}\n",
    "df_raw = pd.read_csv(\"sales_and_bills.csv\", index_col=False)\n",
    "# df_raw.info"
   ]
  },
  {
   "cell_type": "markdown",
   "metadata": {},
   "source": [
    "# Some Visualizations"
   ]
  },
  {
   "cell_type": "code",
   "execution_count": 60,
   "metadata": {},
   "outputs": [
    {
     "data": {
      "text/plain": [
       "(array([8.461e+03, 6.850e+02, 2.700e+02, 1.050e+02, 6.700e+01, 2.500e+01,\n",
       "        1.100e+01, 1.900e+01, 7.000e+00, 3.000e+00, 7.000e+00, 1.000e+00,\n",
       "        8.000e+00, 3.000e+00, 2.000e+00, 1.000e+00, 2.000e+00, 3.000e+00,\n",
       "        3.000e+00, 1.000e+00, 1.000e+00, 0.000e+00, 1.000e+00, 0.000e+00,\n",
       "        0.000e+00, 0.000e+00, 1.000e+00, 0.000e+00, 1.000e+00, 1.000e+00,\n",
       "        0.000e+00, 2.000e+00, 1.000e+00, 0.000e+00, 2.000e+00, 0.000e+00,\n",
       "        0.000e+00, 1.000e+00, 0.000e+00, 0.000e+00, 0.000e+00, 0.000e+00,\n",
       "        1.000e+00, 0.000e+00, 0.000e+00, 0.000e+00, 0.000e+00, 0.000e+00,\n",
       "        0.000e+00, 0.000e+00, 1.000e+00, 0.000e+00, 0.000e+00, 0.000e+00,\n",
       "        0.000e+00, 0.000e+00, 0.000e+00, 0.000e+00, 0.000e+00, 0.000e+00,\n",
       "        0.000e+00, 1.000e+00, 0.000e+00, 0.000e+00, 0.000e+00, 0.000e+00,\n",
       "        0.000e+00, 1.000e+00, 0.000e+00, 0.000e+00, 0.000e+00, 1.000e+00,\n",
       "        0.000e+00, 0.000e+00, 0.000e+00, 1.000e+00, 0.000e+00, 0.000e+00,\n",
       "        0.000e+00, 0.000e+00, 0.000e+00, 0.000e+00, 0.000e+00, 0.000e+00,\n",
       "        0.000e+00, 0.000e+00, 0.000e+00, 0.000e+00, 0.000e+00, 0.000e+00,\n",
       "        0.000e+00, 0.000e+00, 0.000e+00, 0.000e+00, 0.000e+00, 0.000e+00,\n",
       "        0.000e+00, 0.000e+00, 0.000e+00, 1.000e+00]),\n",
       " array([  1.  ,   7.25,  13.5 ,  19.75,  26.  ,  32.25,  38.5 ,  44.75,\n",
       "         51.  ,  57.25,  63.5 ,  69.75,  76.  ,  82.25,  88.5 ,  94.75,\n",
       "        101.  , 107.25, 113.5 , 119.75, 126.  , 132.25, 138.5 , 144.75,\n",
       "        151.  , 157.25, 163.5 , 169.75, 176.  , 182.25, 188.5 , 194.75,\n",
       "        201.  , 207.25, 213.5 , 219.75, 226.  , 232.25, 238.5 , 244.75,\n",
       "        251.  , 257.25, 263.5 , 269.75, 276.  , 282.25, 288.5 , 294.75,\n",
       "        301.  , 307.25, 313.5 , 319.75, 326.  , 332.25, 338.5 , 344.75,\n",
       "        351.  , 357.25, 363.5 , 369.75, 376.  , 382.25, 388.5 , 394.75,\n",
       "        401.  , 407.25, 413.5 , 419.75, 426.  , 432.25, 438.5 , 444.75,\n",
       "        451.  , 457.25, 463.5 , 469.75, 476.  , 482.25, 488.5 , 494.75,\n",
       "        501.  , 507.25, 513.5 , 519.75, 526.  , 532.25, 538.5 , 544.75,\n",
       "        551.  , 557.25, 563.5 , 569.75, 576.  , 582.25, 588.5 , 594.75,\n",
       "        601.  , 607.25, 613.5 , 619.75, 626.  ]),\n",
       " <BarContainer object of 100 artists>)"
      ]
     },
     "execution_count": 60,
     "metadata": {},
     "output_type": "execute_result"
    },
    {
     "data": {
      "image/png": "[encoded data removed]",
      "text/plain": [
       "<Figure size 640x480 with 4 Axes>"
      ]
     },
     "metadata": {},
     "output_type": "display_data"
    }
   ],
   "source": [
    "fig, axes = plt.subplots(2, 2)\n",
    "\n",
    "# df_raw.boxplot(column='Sales', ax=axes[0, 0])\n",
    "# df_raw.boxplot(column='Bills', ax=axes[0, 1])\n",
    "axes[0, 0].boxplot(x=df_raw.Sales, vert=False, labels=[\"\"])\n",
    "axes[0, 0].set(title=\"Sales\", xticklabels=\"\", xticks=[], yticks=[])\n",
    "axes[0, 1].boxplot(x=df_raw.Bills, vert=False, labels=[\"\"])\n",
    "axes[0, 1].set(title=\"Bills\", xticklabels=\"\", xticks=[], yticks=[])\n",
    "axes[1, 0].hist(x=df_raw.Sales, bins=100)\n",
    "axes[1, 1].hist(x=df_raw.Bills, bins=100)"
   ]
  },
  {
   "cell_type": "markdown",
   "metadata": {},
   "source": [
    "# Tukey's IQR method"
   ]
  },
  {
   "cell_type": "code",
   "execution_count": 112,
   "metadata": {},
   "outputs": [],
   "source": [
    "def iqr_outliers(df, features, n=1):\n",
    "    \"\"\"\n",
    "    Takes a dataframe <df> and returns an index list corresponding to the observations\n",
    "    containing more than or equal to <n> outliers in the listed <features>\n",
    "    according to the Tukey IQR method.\n",
    "    \"\"\"\n",
    "    outlier_list = []\n",
    "\n",
    "    for column in features:\n",
    "        # calculate 1st quartile\n",
    "        Q1 = np.percentile(df[column], 25)\n",
    "        # calculate 3rd quartile\n",
    "        Q3 = np.percentile(df[column], 75)\n",
    "        # Interquartile range (IQR)\n",
    "        IQR = Q3 - Q1\n",
    "        # outlier step\n",
    "        outlier_step = 1.5 * IQR\n",
    "\n",
    "        # outliers' indeces for a column\n",
    "        outlier_list_column = df[\n",
    "            (df[column] < Q1 - outlier_step) | (df[column] > Q3 + outlier_step)\n",
    "        ].index\n",
    "        # appending the list of outliers\n",
    "        outlier_list.extend(outlier_list_column)\n",
    "\n",
    "    # count number of outliers for an index\n",
    "    outlier_list = Counter(outlier_list)\n",
    "    # filter indeces where number of outliers is not less than theshold\n",
    "    multiple_outliers = list(k for k, v in outlier_list.items() if v >= n)\n",
    "\n",
    "    # Calculate the number of outliers\n",
    "    outliers = len(multiple_outliers)\n",
    "    total = len(df.index)\n",
    "    print(\n",
    "        f\"Outliers are {outliers} elements out of {total},  which is {outliers/total:.1%} of data.\"\n",
    "    )\n",
    "\n",
    "    return multiple_outliers\n"
   ]
  },
  {
   "cell_type": "code",
   "execution_count": 115,
   "metadata": {},
   "outputs": [
    {
     "name": "stdout",
     "output_type": "stream",
     "text": [
      "Outliers are 1623 elements out of 9702,  which is 16.7% of data.\n"
     ]
    },
    {
     "data": {
      "text/plain": [
       "(array([5.31e+03, 9.70e+02, 0.00e+00, 4.94e+02, 2.76e+02, 0.00e+00,\n",
       "        1.76e+02, 0.00e+00, 1.33e+02, 8.80e+01, 0.00e+00, 7.00e+01,\n",
       "        0.00e+00, 6.40e+01, 4.20e+01, 0.00e+00, 4.90e+01, 0.00e+00,\n",
       "        1.27e+02, 7.00e+01, 0.00e+00, 5.00e+01, 3.00e+01, 0.00e+00,\n",
       "        2.20e+01, 0.00e+00, 1.00e+01, 1.50e+01, 0.00e+00, 8.00e+00,\n",
       "        0.00e+00, 7.00e+00, 1.50e+01, 0.00e+00, 7.00e+00, 0.00e+00,\n",
       "        5.00e+00, 6.00e+00, 0.00e+00, 7.00e+00, 2.00e+00, 0.00e+00,\n",
       "        2.00e+00, 0.00e+00, 2.00e+00, 3.00e+00, 0.00e+00, 2.00e+00,\n",
       "        0.00e+00, 2.00e+00, 0.00e+00, 0.00e+00, 1.00e+00, 0.00e+00,\n",
       "        0.00e+00, 4.00e+00, 0.00e+00, 0.00e+00, 0.00e+00, 2.00e+00,\n",
       "        0.00e+00, 0.00e+00, 2.00e+00, 1.00e+00, 0.00e+00, 1.00e+00,\n",
       "        0.00e+00, 0.00e+00, 0.00e+00, 0.00e+00, 0.00e+00, 0.00e+00,\n",
       "        0.00e+00, 0.00e+00, 0.00e+00, 0.00e+00, 0.00e+00, 0.00e+00,\n",
       "        1.00e+00, 0.00e+00, 0.00e+00, 1.00e+00, 0.00e+00, 0.00e+00,\n",
       "        0.00e+00, 0.00e+00, 0.00e+00, 0.00e+00, 1.00e+00, 0.00e+00,\n",
       "        0.00e+00, 0.00e+00, 0.00e+00, 0.00e+00, 0.00e+00, 0.00e+00,\n",
       "        0.00e+00, 0.00e+00, 0.00e+00, 1.00e+00]),\n",
       " array([ 1.  ,  1.61,  2.22,  2.83,  3.44,  4.05,  4.66,  5.27,  5.88,\n",
       "         6.49,  7.1 ,  7.71,  8.32,  8.93,  9.54, 10.15, 10.76, 11.37,\n",
       "        11.98, 12.59, 13.2 , 13.81, 14.42, 15.03, 15.64, 16.25, 16.86,\n",
       "        17.47, 18.08, 18.69, 19.3 , 19.91, 20.52, 21.13, 21.74, 22.35,\n",
       "        22.96, 23.57, 24.18, 24.79, 25.4 , 26.01, 26.62, 27.23, 27.84,\n",
       "        28.45, 29.06, 29.67, 30.28, 30.89, 31.5 , 32.11, 32.72, 33.33,\n",
       "        33.94, 34.55, 35.16, 35.77, 36.38, 36.99, 37.6 , 38.21, 38.82,\n",
       "        39.43, 40.04, 40.65, 41.26, 41.87, 42.48, 43.09, 43.7 , 44.31,\n",
       "        44.92, 45.53, 46.14, 46.75, 47.36, 47.97, 48.58, 49.19, 49.8 ,\n",
       "        50.41, 51.02, 51.63, 52.24, 52.85, 53.46, 54.07, 54.68, 55.29,\n",
       "        55.9 , 56.51, 57.12, 57.73, 58.34, 58.95, 59.56, 60.17, 60.78,\n",
       "        61.39, 62.  ]),\n",
       " <BarContainer object of 100 artists>)"
      ]
     },
     "execution_count": 115,
     "metadata": {},
     "output_type": "execute_result"
    },
    {
     "data": {
      "image/png": "[encoded data removed]",
      "text/plain": [
       "<Figure size 640x480 with 2 Axes>"
      ]
     },
     "metadata": {},
     "output_type": "display_data"
    }
   ],
   "source": [
    "outliers_iqr = iqr_outliers(df_raw, [\"Sales\"], 1)\n",
    "\n",
    "df_out = df_raw.drop(outliers_iqr, axis=0).reset_index(drop=True)\n",
    "\n",
    "fig, axes = plt.subplots(2)\n",
    "axes[0].hist(x=df_out.Sales, bins=100)\n",
    "axes[1].hist(x=df_out.Bills, bins=100)"
   ]
  },
  {
   "cell_type": "markdown",
   "metadata": {},
   "source": [
    "# Standard deviation method"
   ]
  },
  {
   "cell_type": "code",
   "execution_count": 117,
   "metadata": {},
   "outputs": [],
   "source": [
    "def StDev_outliers(df, features, n=1, cutoff=3):\n",
    "    \"\"\"\n",
    "    Takes a dataframe <df> and returns an index list corresponding to the observations\n",
    "    containing more than or equal to <n> outliers in the listed <features>\n",
    "    according to the standard deviation method. The cutoff value <cutoff> in St. deviations.\n",
    "    \"\"\"\n",
    "    outlier_list = []\n",
    "\n",
    "    for column in features:\n",
    "        # calculate mean and standard deviation\n",
    "        col_mean = df[column].mean()\n",
    "        col_std = df[column].std()\n",
    "        # calculate the cutoff value\n",
    "        cut_off = col_std * cutoff\n",
    "\n",
    "        # outliers' indices for a column\n",
    "        outlier_list_column = df[\n",
    "            (df[column] < col_mean - cut_off) | (df[column] > col_mean + cut_off)\n",
    "        ].index\n",
    "        # appending the list of outliers\n",
    "        outlier_list.extend(outlier_list_column)\n",
    "\n",
    "    # count number of outliers for an index\n",
    "    outlier_list = Counter(outlier_list)\n",
    "    # filter indeces where number of outliers is not less than threshold\n",
    "    multiple_outliers = list(k for k, v in outlier_list.items() if v >= n)\n",
    "\n",
    "    # Calculate the number of outliers\n",
    "    outliers = len(multiple_outliers)\n",
    "    total = len(df.index)\n",
    "    print(\n",
    "        f\"Outliers are {outliers} elements out of {total},  which is {outliers/total:.1%} of data.\"\n",
    "    )\n",
    "\n",
    "    return multiple_outliers"
   ]
  },
  {
   "cell_type": "code",
   "execution_count": 121,
   "metadata": {},
   "outputs": [
    {
     "name": "stdout",
     "output_type": "stream",
     "text": [
      "Outliers are 76 elements out of 9702,  which is 0.8% of data.\n"
     ]
    },
    {
     "data": {
      "text/plain": [
       "(array([8.43e+03, 6.73e+02, 2.56e+02, 1.01e+02, 6.00e+01, 2.40e+01,\n",
       "        1.10e+01, 1.80e+01, 7.00e+00, 3.00e+00, 6.00e+00, 1.00e+00,\n",
       "        7.00e+00, 3.00e+00, 2.00e+00, 1.00e+00, 2.00e+00, 3.00e+00,\n",
       "        2.00e+00, 1.00e+00, 1.00e+00, 0.00e+00, 1.00e+00, 0.00e+00,\n",
       "        0.00e+00, 0.00e+00, 1.00e+00, 0.00e+00, 0.00e+00, 1.00e+00,\n",
       "        0.00e+00, 2.00e+00, 1.00e+00, 0.00e+00, 1.00e+00, 0.00e+00,\n",
       "        0.00e+00, 1.00e+00, 0.00e+00, 0.00e+00, 0.00e+00, 0.00e+00,\n",
       "        0.00e+00, 0.00e+00, 0.00e+00, 0.00e+00, 0.00e+00, 0.00e+00,\n",
       "        0.00e+00, 0.00e+00, 1.00e+00, 0.00e+00, 0.00e+00, 0.00e+00,\n",
       "        0.00e+00, 0.00e+00, 0.00e+00, 0.00e+00, 0.00e+00, 0.00e+00,\n",
       "        0.00e+00, 1.00e+00, 0.00e+00, 0.00e+00, 0.00e+00, 0.00e+00,\n",
       "        0.00e+00, 1.00e+00, 0.00e+00, 0.00e+00, 0.00e+00, 1.00e+00,\n",
       "        0.00e+00, 0.00e+00, 0.00e+00, 1.00e+00, 0.00e+00, 0.00e+00,\n",
       "        0.00e+00, 0.00e+00, 0.00e+00, 0.00e+00, 0.00e+00, 0.00e+00,\n",
       "        0.00e+00, 0.00e+00, 0.00e+00, 0.00e+00, 0.00e+00, 0.00e+00,\n",
       "        0.00e+00, 0.00e+00, 0.00e+00, 0.00e+00, 0.00e+00, 0.00e+00,\n",
       "        0.00e+00, 0.00e+00, 0.00e+00, 1.00e+00]),\n",
       " array([  1.  ,   7.25,  13.5 ,  19.75,  26.  ,  32.25,  38.5 ,  44.75,\n",
       "         51.  ,  57.25,  63.5 ,  69.75,  76.  ,  82.25,  88.5 ,  94.75,\n",
       "        101.  , 107.25, 113.5 , 119.75, 126.  , 132.25, 138.5 , 144.75,\n",
       "        151.  , 157.25, 163.5 , 169.75, 176.  , 182.25, 188.5 , 194.75,\n",
       "        201.  , 207.25, 213.5 , 219.75, 226.  , 232.25, 238.5 , 244.75,\n",
       "        251.  , 257.25, 263.5 , 269.75, 276.  , 282.25, 288.5 , 294.75,\n",
       "        301.  , 307.25, 313.5 , 319.75, 326.  , 332.25, 338.5 , 344.75,\n",
       "        351.  , 357.25, 363.5 , 369.75, 376.  , 382.25, 388.5 , 394.75,\n",
       "        401.  , 407.25, 413.5 , 419.75, 426.  , 432.25, 438.5 , 444.75,\n",
       "        451.  , 457.25, 463.5 , 469.75, 476.  , 482.25, 488.5 , 494.75,\n",
       "        501.  , 507.25, 513.5 , 519.75, 526.  , 532.25, 538.5 , 544.75,\n",
       "        551.  , 557.25, 563.5 , 569.75, 576.  , 582.25, 588.5 , 594.75,\n",
       "        601.  , 607.25, 613.5 , 619.75, 626.  ]),\n",
       " <BarContainer object of 100 artists>)"
      ]
     },
     "execution_count": 121,
     "metadata": {},
     "output_type": "execute_result"
    },
    {
     "data": {
      "image/png": "[encoded data removed]",
      "text/plain": [
       "<Figure size 640x480 with 2 Axes>"
      ]
     },
     "metadata": {},
     "output_type": "display_data"
    }
   ],
   "source": [
    "outliers_stdev = StDev_outliers(df_raw, [\"Sales\"], cutoff=1)\n",
    "\n",
    "df_out = df_raw.drop(outliers_stdev, axis=0).reset_index(drop=True)\n",
    "\n",
    "fig, axes = plt.subplots(2)\n",
    "axes[0].hist(x=df_out.Sales, bins=100)\n",
    "axes[1].hist(x=df_out.Bills, bins=100)\n"
   ]
  },
  {
   "cell_type": "markdown",
   "metadata": {},
   "source": [
    "# Modified z-score"
   ]
  },
  {
   "cell_type": "code",
   "execution_count": 152,
   "metadata": {},
   "outputs": [],
   "source": [
    "from scipy.stats import median_abs_deviation as MAD\n",
    "\n",
    "\n",
    "def z_scoremod1_outliers(df, features, n=1, cutoff=3):\n",
    "    \"\"\"\n",
    "    Takes a dataframe <df> and returns an index list corresponding to the observations\n",
    "    containing more than or equal to <n> outliers in the listed <features>\n",
    "    according to the z-score modified method.\n",
    "    \"\"\"\n",
    "    outlier_list = []\n",
    "\n",
    "    for column in features:\n",
    "        # calculate the mean of the data\n",
    "        col_mean = df[column].mean()\n",
    "\n",
    "        # calculate z-score modified\n",
    "        mod_z_score = abs(0.6745 * (df[column] - col_mean) / MAD(df[column]))\n",
    "        # find the outliers' indices\n",
    "        outlier_list_column = df[mod_z_score > cutoff].index\n",
    "        # appending the list of outliers\n",
    "        outlier_list.extend(outlier_list_column)\n",
    "\n",
    "    # count number of outliers for an index\n",
    "    outlier_list = Counter(outlier_list)\n",
    "    # filter indeces where number of outliers is not less than threshold\n",
    "    multiple_outliers = list(k for k, v in outlier_list.items() if v >= n)\n",
    "\n",
    "    # Calculate the number of outliers\n",
    "    outliers = len(multiple_outliers)\n",
    "    total = len(df.index)\n",
    "    print(\n",
    "        f\"Outliers are {outliers} elements out of {total},  which is {outliers/total:.1%} of data.\"\n",
    "    )\n",
    "\n",
    "    return multiple_outliers"
   ]
  },
  {
   "cell_type": "code",
   "execution_count": 155,
   "metadata": {},
   "outputs": [
    {
     "name": "stdout",
     "output_type": "stream",
     "text": [
      "Outliers are 9666 elements out of 9702,  which is 99.6% of data.\n"
     ]
    },
    {
     "data": {
      "text/plain": [
       "(array([7., 3., 3., 0., 4., 0., 5., 1., 3., 3., 0., 0., 0., 0., 0., 0., 1.,\n",
       "        0., 0., 1., 0., 0., 0., 1., 0., 0., 0., 0., 0., 1., 0., 0., 0., 0.,\n",
       "        0., 0., 0., 0., 0., 0., 0., 0., 0., 0., 0., 0., 0., 0., 0., 0., 0.,\n",
       "        0., 0., 0., 0., 0., 0., 0., 0., 0., 0., 0., 0., 0., 0., 0., 0., 0.,\n",
       "        0., 0., 0., 0., 0., 0., 0., 0., 0., 1., 0., 0., 0., 0., 0., 0., 0.,\n",
       "        0., 0., 0., 0., 0., 0., 0., 0., 0., 0., 0., 0., 1., 0., 1.]),\n",
       " array([ 1.  ,  1.81,  2.62,  3.43,  4.24,  5.05,  5.86,  6.67,  7.48,\n",
       "         8.29,  9.1 ,  9.91, 10.72, 11.53, 12.34, 13.15, 13.96, 14.77,\n",
       "        15.58, 16.39, 17.2 , 18.01, 18.82, 19.63, 20.44, 21.25, 22.06,\n",
       "        22.87, 23.68, 24.49, 25.3 , 26.11, 26.92, 27.73, 28.54, 29.35,\n",
       "        30.16, 30.97, 31.78, 32.59, 33.4 , 34.21, 35.02, 35.83, 36.64,\n",
       "        37.45, 38.26, 39.07, 39.88, 40.69, 41.5 , 42.31, 43.12, 43.93,\n",
       "        44.74, 45.55, 46.36, 47.17, 47.98, 48.79, 49.6 , 50.41, 51.22,\n",
       "        52.03, 52.84, 53.65, 54.46, 55.27, 56.08, 56.89, 57.7 , 58.51,\n",
       "        59.32, 60.13, 60.94, 61.75, 62.56, 63.37, 64.18, 64.99, 65.8 ,\n",
       "        66.61, 67.42, 68.23, 69.04, 69.85, 70.66, 71.47, 72.28, 73.09,\n",
       "        73.9 , 74.71, 75.52, 76.33, 77.14, 77.95, 78.76, 79.57, 80.38,\n",
       "        81.19, 82.  ]),\n",
       " <BarContainer object of 100 artists>)"
      ]
     },
     "execution_count": 155,
     "metadata": {},
     "output_type": "execute_result"
    },
    {
     "data": {
      "image/png": "[encoded data removed]",
      "text/plain": [
       "<Figure size 640x480 with 2 Axes>"
      ]
     },
     "metadata": {},
     "output_type": "display_data"
    }
   ],
   "source": [
    "outliers_z_scoremod1 = z_scoremod1_outliers(df_raw, [\"Sales\"], cutoff=3)\n",
    "\n",
    "df_out = df_raw.drop(outliers_z_scoremod1, axis=0).reset_index(drop=True)\n",
    "\n",
    "fig, axes = plt.subplots(2)\n",
    "axes[0].hist(x=df_out.Sales, bins=100)\n",
    "axes[1].hist(x=df_out.Bills, bins=100)"
   ]
  },
  {
   "cell_type": "markdown",
   "metadata": {},
   "source": [
    "# Isolation Forest"
   ]
  },
  {
   "cell_type": "code",
   "execution_count": 124,
   "metadata": {},
   "outputs": [],
   "source": [
    "# pip install -U scikit-learn\n"
   ]
  },
  {
   "cell_type": "code",
   "execution_count": 139,
   "metadata": {},
   "outputs": [
    {
     "data": {
      "text/html": [
       "<div>\n",
       "<style scoped>\n",
       "    .dataframe tbody tr th:only-of-type {\n",
       "        vertical-align: middle;\n",
       "    }\n",
       "\n",
       "    .dataframe tbody tr th {\n",
       "        vertical-align: top;\n",
       "    }\n",
       "\n",
       "    .dataframe thead th {\n",
       "        text-align: right;\n",
       "    }\n",
       "</style>\n",
       "<table border=\"1\" class=\"dataframe\">\n",
       "  <thead>\n",
       "    <tr style=\"text-align: right;\">\n",
       "      <th></th>\n",
       "      <th>Sales</th>\n",
       "      <th>Bills</th>\n",
       "    </tr>\n",
       "  </thead>\n",
       "  <tbody>\n",
       "    <tr>\n",
       "      <th>0</th>\n",
       "      <td>16147961.00</td>\n",
       "      <td>180</td>\n",
       "    </tr>\n",
       "    <tr>\n",
       "      <th>1</th>\n",
       "      <td>45873960.00</td>\n",
       "      <td>267</td>\n",
       "    </tr>\n",
       "    <tr>\n",
       "      <th>2</th>\n",
       "      <td>40402180.00</td>\n",
       "      <td>214</td>\n",
       "    </tr>\n",
       "    <tr>\n",
       "      <th>3</th>\n",
       "      <td>232776.31</td>\n",
       "      <td>218</td>\n",
       "    </tr>\n",
       "    <tr>\n",
       "      <th>4</th>\n",
       "      <td>331355.00</td>\n",
       "      <td>316</td>\n",
       "    </tr>\n",
       "  </tbody>\n",
       "</table>\n",
       "</div>"
      ],
      "text/plain": [
       "         Sales  Bills\n",
       "0  16147961.00    180\n",
       "1  45873960.00    267\n",
       "2  40402180.00    214\n",
       "3    232776.31    218\n",
       "4    331355.00    316"
      ]
     },
     "execution_count": 139,
     "metadata": {},
     "output_type": "execute_result"
    }
   ],
   "source": [
    "from sklearn.ensemble import IsolationForest\n",
    "\n",
    "df_iso = df_raw.copy()\n",
    "df_iso = df_iso.drop([\"Code\", \"Year\"], axis=1)\n",
    "df_iso.head()"
   ]
  },
  {
   "cell_type": "code",
   "execution_count": 140,
   "metadata": {},
   "outputs": [
    {
     "data": {
      "text/html": [
       "<style>#sk-container-id-5 {color: black;background-color: white;}#sk-container-id-5 pre{padding: 0;}#sk-container-id-5 div.sk-toggleable {background-color: white;}#sk-container-id-5 label.sk-toggleable__label {cursor: pointer;display: block;width: 100%;margin-bottom: 0;padding: 0.3em;box-sizing: border-box;text-align: center;}#sk-container-id-5 label.sk-toggleable__label-arrow:before {content: \"▸\";float: left;margin-right: 0.25em;color: #696969;}#sk-container-id-5 label.sk-toggleable__label-arrow:hover:before {color: black;}#sk-container-id-5 div.sk-estimator:hover label.sk-toggleable__label-arrow:before {color: black;}#sk-container-id-5 div.sk-toggleable__content {max-height: 0;max-width: 0;overflow: hidden;text-align: left;background-color: #f0f8ff;}#sk-container-id-5 div.sk-toggleable__content pre {margin: 0.2em;color: black;border-radius: 0.25em;background-color: #f0f8ff;}#sk-container-id-5 input.sk-toggleable__control:checked~div.sk-toggleable__content {max-height: 200px;max-width: 100%;overflow: auto;}#sk-container-id-5 input.sk-toggleable__control:checked~label.sk-toggleable__label-arrow:before {content: \"▾\";}#sk-container-id-5 div.sk-estimator input.sk-toggleable__control:checked~label.sk-toggleable__label {background-color: #d4ebff;}#sk-container-id-5 div.sk-label input.sk-toggleable__control:checked~label.sk-toggleable__label {background-color: #d4ebff;}#sk-container-id-5 input.sk-hidden--visually {border: 0;clip: rect(1px 1px 1px 1px);clip: rect(1px, 1px, 1px, 1px);height: 1px;margin: -1px;overflow: hidden;padding: 0;position: absolute;width: 1px;}#sk-container-id-5 div.sk-estimator {font-family: monospace;background-color: #f0f8ff;border: 1px dotted black;border-radius: 0.25em;box-sizing: border-box;margin-bottom: 0.5em;}#sk-container-id-5 div.sk-estimator:hover {background-color: #d4ebff;}#sk-container-id-5 div.sk-parallel-item::after {content: \"\";width: 100%;border-bottom: 1px solid gray;flex-grow: 1;}#sk-container-id-5 div.sk-label:hover label.sk-toggleable__label {background-color: #d4ebff;}#sk-container-id-5 div.sk-serial::before {content: \"\";position: absolute;border-left: 1px solid gray;box-sizing: border-box;top: 0;bottom: 0;left: 50%;z-index: 0;}#sk-container-id-5 div.sk-serial {display: flex;flex-direction: column;align-items: center;background-color: white;padding-right: 0.2em;padding-left: 0.2em;position: relative;}#sk-container-id-5 div.sk-item {position: relative;z-index: 1;}#sk-container-id-5 div.sk-parallel {display: flex;align-items: stretch;justify-content: center;background-color: white;position: relative;}#sk-container-id-5 div.sk-item::before, #sk-container-id-5 div.sk-parallel-item::before {content: \"\";position: absolute;border-left: 1px solid gray;box-sizing: border-box;top: 0;bottom: 0;left: 50%;z-index: -1;}#sk-container-id-5 div.sk-parallel-item {display: flex;flex-direction: column;z-index: 1;position: relative;background-color: white;}#sk-container-id-5 div.sk-parallel-item:first-child::after {align-self: flex-end;width: 50%;}#sk-container-id-5 div.sk-parallel-item:last-child::after {align-self: flex-start;width: 50%;}#sk-container-id-5 div.sk-parallel-item:only-child::after {width: 0;}#sk-container-id-5 div.sk-dashed-wrapped {border: 1px dashed gray;margin: 0 0.4em 0.5em 0.4em;box-sizing: border-box;padding-bottom: 0.4em;background-color: white;}#sk-container-id-5 div.sk-label label {font-family: monospace;font-weight: bold;display: inline-block;line-height: 1.2em;}#sk-container-id-5 div.sk-label-container {text-align: center;}#sk-container-id-5 div.sk-container {/* jupyter's `normalize.less` sets `[hidden] { display: none; }` but bootstrap.min.css set `[hidden] { display: none !important; }` so we also need the `!important` here to be able to override the default hidden behavior on the sphinx rendered scikit-learn.org. See: https://github.com/scikit-learn/scikit-learn/issues/21755 */display: inline-block !important;position: relative;}#sk-container-id-5 div.sk-text-repr-fallback {display: none;}</style><div id=\"sk-container-id-5\" class=\"sk-top-container\"><div class=\"sk-text-repr-fallback\"><pre>IsolationForest()</pre><b>In a Jupyter environment, please rerun this cell to show the HTML representation or trust the notebook. <br />On GitHub, the HTML representation is unable to render, please try loading this page with nbviewer.org.</b></div><div class=\"sk-container\" hidden><div class=\"sk-item\"><div class=\"sk-estimator sk-toggleable\"><input class=\"sk-toggleable__control sk-hidden--visually\" id=\"sk-estimator-id-5\" type=\"checkbox\" checked><label for=\"sk-estimator-id-5\" class=\"sk-toggleable__label sk-toggleable__label-arrow\">IsolationForest</label><div class=\"sk-toggleable__content\"><pre>IsolationForest()</pre></div></div></div></div></div>"
      ],
      "text/plain": [
       "IsolationForest()"
      ]
     },
     "execution_count": 140,
     "metadata": {},
     "output_type": "execute_result"
    }
   ],
   "source": [
    "model = IsolationForest()\n",
    "model.fit(df_iso)\n"
   ]
  },
  {
   "cell_type": "code",
   "execution_count": 141,
   "metadata": {},
   "outputs": [
    {
     "data": {
      "text/html": [
       "<div>\n",
       "<style scoped>\n",
       "    .dataframe tbody tr th:only-of-type {\n",
       "        vertical-align: middle;\n",
       "    }\n",
       "\n",
       "    .dataframe tbody tr th {\n",
       "        vertical-align: top;\n",
       "    }\n",
       "\n",
       "    .dataframe thead th {\n",
       "        text-align: right;\n",
       "    }\n",
       "</style>\n",
       "<table border=\"1\" class=\"dataframe\">\n",
       "  <thead>\n",
       "    <tr style=\"text-align: right;\">\n",
       "      <th></th>\n",
       "      <th>Sales</th>\n",
       "      <th>Bills</th>\n",
       "      <th>scores</th>\n",
       "      <th>anomaly</th>\n",
       "    </tr>\n",
       "  </thead>\n",
       "  <tbody>\n",
       "    <tr>\n",
       "      <th>0</th>\n",
       "      <td>16147961.00</td>\n",
       "      <td>180</td>\n",
       "      <td>-0.365790</td>\n",
       "      <td>-1</td>\n",
       "    </tr>\n",
       "    <tr>\n",
       "      <th>1</th>\n",
       "      <td>45873960.00</td>\n",
       "      <td>267</td>\n",
       "      <td>-0.369312</td>\n",
       "      <td>-1</td>\n",
       "    </tr>\n",
       "    <tr>\n",
       "      <th>2</th>\n",
       "      <td>40402180.00</td>\n",
       "      <td>214</td>\n",
       "      <td>-0.369312</td>\n",
       "      <td>-1</td>\n",
       "    </tr>\n",
       "    <tr>\n",
       "      <th>3</th>\n",
       "      <td>232776.31</td>\n",
       "      <td>218</td>\n",
       "      <td>-0.303150</td>\n",
       "      <td>-1</td>\n",
       "    </tr>\n",
       "    <tr>\n",
       "      <th>4</th>\n",
       "      <td>331355.00</td>\n",
       "      <td>316</td>\n",
       "      <td>-0.319064</td>\n",
       "      <td>-1</td>\n",
       "    </tr>\n",
       "    <tr>\n",
       "      <th>5</th>\n",
       "      <td>431159.00</td>\n",
       "      <td>473</td>\n",
       "      <td>-0.325741</td>\n",
       "      <td>-1</td>\n",
       "    </tr>\n",
       "    <tr>\n",
       "      <th>6</th>\n",
       "      <td>145200.55</td>\n",
       "      <td>385</td>\n",
       "      <td>-0.305871</td>\n",
       "      <td>-1</td>\n",
       "    </tr>\n",
       "    <tr>\n",
       "      <th>7</th>\n",
       "      <td>117863.85</td>\n",
       "      <td>425</td>\n",
       "      <td>-0.304237</td>\n",
       "      <td>-1</td>\n",
       "    </tr>\n",
       "    <tr>\n",
       "      <th>8</th>\n",
       "      <td>182703.30</td>\n",
       "      <td>626</td>\n",
       "      <td>-0.309150</td>\n",
       "      <td>-1</td>\n",
       "    </tr>\n",
       "    <tr>\n",
       "      <th>9</th>\n",
       "      <td>119326.52</td>\n",
       "      <td>450</td>\n",
       "      <td>-0.303693</td>\n",
       "      <td>-1</td>\n",
       "    </tr>\n",
       "  </tbody>\n",
       "</table>\n",
       "</div>"
      ],
      "text/plain": [
       "         Sales  Bills    scores  anomaly\n",
       "0  16147961.00    180 -0.365790       -1\n",
       "1  45873960.00    267 -0.369312       -1\n",
       "2  40402180.00    214 -0.369312       -1\n",
       "3    232776.31    218 -0.303150       -1\n",
       "4    331355.00    316 -0.319064       -1\n",
       "5    431159.00    473 -0.325741       -1\n",
       "6    145200.55    385 -0.305871       -1\n",
       "7    117863.85    425 -0.304237       -1\n",
       "8    182703.30    626 -0.309150       -1\n",
       "9    119326.52    450 -0.303693       -1"
      ]
     },
     "execution_count": 141,
     "metadata": {},
     "output_type": "execute_result"
    }
   ],
   "source": [
    "scores = model.decision_function(df_iso)\n",
    "anomaly = model.predict(df_iso)\n",
    "df_iso[\"scores\"] = scores\n",
    "df_iso[\"anomaly\"] = anomaly\n",
    "df_iso.head(10)"
   ]
  },
  {
   "cell_type": "code",
   "execution_count": 147,
   "metadata": {},
   "outputs": [
    {
     "name": "stdout",
     "output_type": "stream",
     "text": [
      "Outliers are 958 elements out of 9702,  which is 9.9% of data.\n"
     ]
    }
   ],
   "source": [
    "outliers_list = df_iso.loc[df_iso[\"anomaly\"] == -1].index\n",
    "outliers = len(outliers_list)\n",
    "total = len(df_iso.index)\n",
    "print(\n",
    "    f\"Outliers are {outliers} elements out of {total},  which is {outliers/total:.1%} of data.\"\n",
    ")"
   ]
  },
  {
   "cell_type": "code",
   "execution_count": 151,
   "metadata": {},
   "outputs": [
    {
     "data": {
      "text/plain": [
       "(array([5515.,    0.,    0.,    0.,    0.,    0.,    0., 1107.,    0.,\n",
       "           0.,    0.,    0.,    0.,    0.,    0.,  608.,    0.,    0.,\n",
       "           0.,    0.,    0.,    0.,    0.,  367.,    0.,    0.,    0.,\n",
       "           0.,    0.,    0.,  249.,    0.,    0.,    0.,    0.,    0.,\n",
       "           0.,    0.,  188.,    0.,    0.,    0.,    0.,    0.,    0.,\n",
       "           0.,  133.,    0.,    0.,    0.,    0.,    0.,    0.,  101.,\n",
       "           0.,    0.,    0.,    0.,    0.,    0.,    0.,   83.,    0.,\n",
       "           0.,    0.,    0.,    0.,    0.,    0.,   50.,    0.,    0.,\n",
       "           0.,    0.,    0.,    0.,   66.,    0.,    0.,    0.,    0.,\n",
       "           0.,    0.,    0.,  138.,    0.,    0.,    0.,    0.,    0.,\n",
       "           0.,    0.,   87.,    0.,    0.,    0.,    0.,    0.,    0.,\n",
       "          52.]),\n",
       " array([ 1.  ,  1.13,  1.26,  1.39,  1.52,  1.65,  1.78,  1.91,  2.04,\n",
       "         2.17,  2.3 ,  2.43,  2.56,  2.69,  2.82,  2.95,  3.08,  3.21,\n",
       "         3.34,  3.47,  3.6 ,  3.73,  3.86,  3.99,  4.12,  4.25,  4.38,\n",
       "         4.51,  4.64,  4.77,  4.9 ,  5.03,  5.16,  5.29,  5.42,  5.55,\n",
       "         5.68,  5.81,  5.94,  6.07,  6.2 ,  6.33,  6.46,  6.59,  6.72,\n",
       "         6.85,  6.98,  7.11,  7.24,  7.37,  7.5 ,  7.63,  7.76,  7.89,\n",
       "         8.02,  8.15,  8.28,  8.41,  8.54,  8.67,  8.8 ,  8.93,  9.06,\n",
       "         9.19,  9.32,  9.45,  9.58,  9.71,  9.84,  9.97, 10.1 , 10.23,\n",
       "        10.36, 10.49, 10.62, 10.75, 10.88, 11.01, 11.14, 11.27, 11.4 ,\n",
       "        11.53, 11.66, 11.79, 11.92, 12.05, 12.18, 12.31, 12.44, 12.57,\n",
       "        12.7 , 12.83, 12.96, 13.09, 13.22, 13.35, 13.48, 13.61, 13.74,\n",
       "        13.87, 14.  ]),\n",
       " <BarContainer object of 100 artists>)"
      ]
     },
     "execution_count": 151,
     "metadata": {},
     "output_type": "execute_result"
    },
    {
     "data": {
      "image/png": "[encoded data removed]",
      "text/plain": [
       "<Figure size 640x480 with 2 Axes>"
      ]
     },
     "metadata": {},
     "output_type": "display_data"
    }
   ],
   "source": [
    "df_out = df_iso.drop(outliers_list, axis=0).reset_index(drop=True)\n",
    "\n",
    "fig, axes = plt.subplots(2)\n",
    "axes[0].hist(x=df_out.Sales, bins=100)\n",
    "axes[1].hist(x=df_out.Bills, bins=100)\n"
   ]
  },
  {
   "cell_type": "markdown",
   "metadata": {},
   "source": [
    "# DBSCAN - Density-Based Spatial Clustering of Applications with Noise"
   ]
  },
  {
   "cell_type": "code",
   "execution_count": 156,
   "metadata": {},
   "outputs": [
    {
     "data": {
      "text/html": [
       "<div>\n",
       "<style scoped>\n",
       "    .dataframe tbody tr th:only-of-type {\n",
       "        vertical-align: middle;\n",
       "    }\n",
       "\n",
       "    .dataframe tbody tr th {\n",
       "        vertical-align: top;\n",
       "    }\n",
       "\n",
       "    .dataframe thead th {\n",
       "        text-align: right;\n",
       "    }\n",
       "</style>\n",
       "<table border=\"1\" class=\"dataframe\">\n",
       "  <thead>\n",
       "    <tr style=\"text-align: right;\">\n",
       "      <th></th>\n",
       "      <th>Sales</th>\n",
       "      <th>Bills</th>\n",
       "    </tr>\n",
       "  </thead>\n",
       "  <tbody>\n",
       "    <tr>\n",
       "      <th>0</th>\n",
       "      <td>16147961.00</td>\n",
       "      <td>180</td>\n",
       "    </tr>\n",
       "    <tr>\n",
       "      <th>1</th>\n",
       "      <td>45873960.00</td>\n",
       "      <td>267</td>\n",
       "    </tr>\n",
       "    <tr>\n",
       "      <th>2</th>\n",
       "      <td>40402180.00</td>\n",
       "      <td>214</td>\n",
       "    </tr>\n",
       "    <tr>\n",
       "      <th>3</th>\n",
       "      <td>232776.31</td>\n",
       "      <td>218</td>\n",
       "    </tr>\n",
       "    <tr>\n",
       "      <th>4</th>\n",
       "      <td>331355.00</td>\n",
       "      <td>316</td>\n",
       "    </tr>\n",
       "  </tbody>\n",
       "</table>\n",
       "</div>"
      ],
      "text/plain": [
       "         Sales  Bills\n",
       "0  16147961.00    180\n",
       "1  45873960.00    267\n",
       "2  40402180.00    214\n",
       "3    232776.31    218\n",
       "4    331355.00    316"
      ]
     },
     "execution_count": 156,
     "metadata": {},
     "output_type": "execute_result"
    }
   ],
   "source": [
    "from sklearn.cluster import DBSCAN\n",
    "from sklearn.preprocessing import StandardScaler\n",
    "\n",
    "df_dbscan = df_raw.copy()\n",
    "df_dbscan = df_dbscan.drop([\"Code\", \"Year\"], axis=1)\n",
    "df_dbscan.head()"
   ]
  },
  {
   "cell_type": "code",
   "execution_count": 167,
   "metadata": {},
   "outputs": [
    {
     "data": {
      "text/plain": [
       " 0    9608\n",
       "-1      82\n",
       " 1      12\n",
       "dtype: int64"
      ]
     },
     "execution_count": 167,
     "metadata": {},
     "output_type": "execute_result"
    }
   ],
   "source": [
    "X = StandardScaler().fit_transform(df_dbscan.values)\n",
    "df_db_raw = DBSCAN(eps=0.5, min_samples=10).fit(X)\n",
    "labels = df_db_raw.labels_\n",
    "pd.Series(labels).value_counts()"
   ]
  }
 ],
 "metadata": {
  "kernelspec": {
   "display_name": "Python 3.10.7 64-bit",
   "language": "python",
   "name": "python3"
  },
  "language_info": {
   "codemirror_mode": {
    "name": "ipython",
    "version": 3
   },
   "file_extension": ".py",
   "mimetype": "text/x-python",
   "name": "python",
   "nbconvert_exporter": "python",
   "pygments_lexer": "ipython3",
   "version": "3.10.7"
  },
  "orig_nbformat": 4,
  "vscode": {
   "interpreter": {
    "hash": "8474846839f4382df822f3ddf7b8f38a147bed526412c12773fe80e04b14e917"
   }
  }
 },
 "nbformat": 4,
 "nbformat_minor": 2
}
