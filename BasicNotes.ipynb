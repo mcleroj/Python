{
 "cells": [
  {
   "cell_type": "code",
   "execution_count": null,
   "metadata": {},
   "outputs": [],
   "source": [
    "import pandas as pd\n",
    "\n",
    "dic = {\"a\": \"orang\", \"b\": \"aff\", \"c\": \"gone\", \"d\": \"sffgggg\"}"
   ]
  }
 ],
 "metadata": {
  "kernelspec": {
   "display_name": "Python 3.10.7 64-bit",
   "language": "python",
   "name": "python3"
  },
  "language_info": {
   "name": "python",
   "version": "3.10.7"
  },
  "orig_nbformat": 4,
  "vscode": {
   "interpreter": {
    "hash": "8474846839f4382df822f3ddf7b8f38a147bed526412c12773fe80e04b14e917"
   }
  }
 },
 "nbformat": 4,
 "nbformat_minor": 2
}
